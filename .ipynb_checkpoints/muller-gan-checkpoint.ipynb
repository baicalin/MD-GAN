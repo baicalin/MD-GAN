{
 "cells": [
  {
   "cell_type": "code",
   "execution_count": 1,
   "metadata": {},
   "outputs": [
    {
     "name": "stderr",
     "output_type": "stream",
     "text": [
      "/Users/je714/miniconda3/envs/dl/lib/python3.6/site-packages/sklearn/cross_validation.py:41: DeprecationWarning: This module was deprecated in version 0.18 in favor of the model_selection module into which all the refactored classes and functions are moved. Also note that the interface of the new CV iterators are different from that of this module. This module will be removed in 0.20.\n",
      "  \"This module will be removed in 0.20.\", DeprecationWarning)\n",
      "/Users/je714/miniconda3/envs/dl/lib/python3.6/site-packages/sklearn/grid_search.py:42: DeprecationWarning: This module was deprecated in version 0.18 in favor of the model_selection module into which all the refactored classes and functions are moved. This module will be removed in 0.20.\n",
      "  DeprecationWarning)\n",
      "/Users/je714/miniconda3/envs/dl/lib/python3.6/site-packages/statsmodels/compat/pandas.py:56: FutureWarning: The pandas.core.datetools module is deprecated and will be removed in a future version. Please use the pandas.tseries module instead.\n",
      "  from pandas.core import datetools\n",
      "/Users/je714/miniconda3/envs/dl/lib/python3.6/site-packages/h5py/__init__.py:36: FutureWarning: Conversion of the second argument of issubdtype from `float` to `np.floating` is deprecated. In future, it will be treated as `np.float64 == np.dtype(float).type`.\n",
      "  from ._conv import register_converters as _register_converters\n",
      "Using TensorFlow backend.\n"
     ]
    }
   ],
   "source": [
    "from msmbuilder.example_datasets import MullerPotential\n",
    "from msmbuilder.preprocessing import MinMaxScaler\n",
    "%matplotlib inline\n",
    "from __future__ import print_function, division\n",
    "from sklearn.model_selection import train_test_split\n",
    "\n",
    "import matplotlib.pyplot as plt\n",
    "\n",
    "import numpy as np\n",
    "\n",
    "\n",
    "import keras\n",
    "import keras.backend as K\n",
    "from keras.layers import Input, Dense, Activation, LeakyReLU, BatchNormalization\n",
    "from keras.models import Sequential\n",
    "from keras.optimizers import Adam\n",
    "from sklearn.model_selection import train_test_split\n",
    "import matplotlib.pyplot as plt\n",
    "\n",
    "\n",
    "from utils import *\n",
    "\n"
   ]
  },
  {
   "cell_type": "code",
   "execution_count": 2,
   "metadata": {},
   "outputs": [],
   "source": [
    "trajs = MullerPotential().get().trajectories"
   ]
  },
  {
   "cell_type": "code",
   "execution_count": 3,
   "metadata": {},
   "outputs": [
    {
     "data": {
      "text/plain": [
       "MinMaxScaler(copy=True, feature_range=(-1, 1))"
      ]
     },
     "execution_count": 3,
     "metadata": {},
     "output_type": "execute_result"
    }
   ],
   "source": [
    "sc = MinMaxScaler(feature_range=(-1 , 1))\n",
    "sc.fit(trajs)"
   ]
  },
  {
   "cell_type": "code",
   "execution_count": 4,
   "metadata": {},
   "outputs": [],
   "source": [
    "txx = np.concatenate(trajs)"
   ]
  },
  {
   "cell_type": "code",
   "execution_count": 5,
   "metadata": {},
   "outputs": [],
   "source": [
    "a = sc.fit_transform([txx])[0]"
   ]
  },
  {
   "cell_type": "code",
   "execution_count": 6,
   "metadata": {},
   "outputs": [
    {
     "data": {
      "text/plain": [
       "<matplotlib.axes._subplots.AxesSubplot at 0x12eaee5f8>"
      ]
     },
     "execution_count": 6,
     "metadata": {},
     "output_type": "execute_result"
    },
    {
     "data": {
      "image/png": "[encoded data removed]",
      "text/plain": [
       "<matplotlib.figure.Figure at 0x12eae5c18>"
      ]
     },
     "metadata": {},
     "output_type": "display_data"
    }
   ],
   "source": [
    "ax = scatter(a)\n",
    "scatter(txx, ax=ax)"
   ]
  },
  {
   "cell_type": "code",
   "execution_count": 7,
   "metadata": {},
   "outputs": [],
   "source": [
    "train, test = train_test_split(a)"
   ]
  },
  {
   "cell_type": "code",
   "execution_count": 8,
   "metadata": {},
   "outputs": [
    {
     "data": {
      "text/plain": [
       "(75000, 2)"
      ]
     },
     "execution_count": 8,
     "metadata": {},
     "output_type": "execute_result"
    }
   ],
   "source": [
    "train.shape"
   ]
  },
  {
   "cell_type": "code",
   "execution_count": 9,
   "metadata": {},
   "outputs": [
    {
     "data": {
      "text/plain": [
       "(25000, 2)"
      ]
     },
     "execution_count": 9,
     "metadata": {},
     "output_type": "execute_result"
    }
   ],
   "source": [
    "test.shape"
   ]
  },
  {
   "cell_type": "code",
   "execution_count": 10,
   "metadata": {},
   "outputs": [
    {
     "data": {
      "text/plain": [
       "array([[ 1.43355612e-01,  3.94694367e-01, -1.41709423e-01,\n",
       "         7.66912286e-01,  5.08343946e-01,  3.08738017e-01,\n",
       "         1.07426313e+00,  5.08004453e-01, -1.37221668e+00,\n",
       "        -5.55336869e-01, -1.06114018e+00,  1.23461336e+00,\n",
       "         1.34541581e+00, -2.92463308e-01, -5.56089427e-02,\n",
       "         9.08328191e-01, -1.81747241e-01, -2.78970279e-01,\n",
       "         1.02158805e+00,  1.16192436e+00,  7.03359607e-01,\n",
       "         1.07462055e-03, -4.72164531e-01,  3.92164529e-01,\n",
       "         5.21112697e-01,  4.07926551e-01, -5.85932089e-01,\n",
       "         1.67794051e-01,  2.81389610e-01,  4.05291687e-01,\n",
       "         8.06907245e-01,  1.47535054e-01,  3.00030904e-01,\n",
       "         1.45620748e+00, -1.08178803e+00, -4.15576823e-01,\n",
       "        -1.26307541e+00, -8.43292568e-01,  4.21450612e+00,\n",
       "         1.02665318e+00,  1.50674606e-01,  1.43289921e+00,\n",
       "        -2.54673259e-01,  4.82911968e-01, -3.39433483e-01,\n",
       "        -4.03757452e-03, -1.08016379e-01,  1.06352063e+00,\n",
       "        -9.82343102e-01, -1.53148920e+00, -1.54620916e-01,\n",
       "        -1.78856439e+00,  2.17539426e+00, -1.39920444e+00,\n",
       "         1.32395088e+00,  5.47347355e-01, -5.84657602e-01,\n",
       "        -1.24292403e+00, -6.81368348e-01, -8.82582773e-01,\n",
       "         6.32862285e-01,  3.10258097e-01, -3.65874389e-01,\n",
       "         1.42896487e-01,  5.04514153e-01, -1.08026075e+00,\n",
       "        -7.08204232e-02,  1.37755815e+00,  1.20376183e+00,\n",
       "         1.32339673e+00, -9.56744524e-01,  1.28095443e+00,\n",
       "         4.68889282e-01,  6.31338609e-01,  3.62781399e-01,\n",
       "         4.71330141e-01,  5.94521703e-01, -6.58296879e-01,\n",
       "        -1.30382784e+00,  8.26223063e-02,  7.84108461e-02,\n",
       "        -4.15386781e-01, -1.24343946e+00, -3.37094090e-01,\n",
       "        -1.53743209e+00, -6.28025907e-01,  4.47593712e-01,\n",
       "        -4.99444590e-01,  1.28350893e+00, -1.72888243e+00,\n",
       "         1.13148771e+00, -6.96208474e-01,  1.22009915e+00,\n",
       "         9.33340694e-01,  1.76790523e+00, -1.49823106e+00,\n",
       "         2.24787246e-01, -3.17507099e-01, -1.07574674e-02,\n",
       "         1.56183450e+00]])"
      ]
     },
     "execution_count": 10,
     "metadata": {},
     "output_type": "execute_result"
    }
   ],
   "source": [
    "\n",
    "make_latent_samples(1, 100) # generates one sample\n",
    "\n"
   ]
  },
  {
   "cell_type": "code",
   "execution_count": 11,
   "metadata": {},
   "outputs": [],
   "source": [
    "# hyperparameters\n",
    "sample_size     = 100     # latent sample size (i.e., 100 random numbers)\n",
    "g_hidden_size   = 128\n",
    "d_hidden_size   = 128\n",
    "leaky_alpha     = 0.01\n",
    "g_learning_rate = 0.0001  # learning rate for the generator\n",
    "d_learning_rate = 0.001   # learning rate for the discriminator\n",
    "epochs          = 100\n",
    "batch_size      = 64      # train batch size\n",
    "eval_size       = 16      # evaluate size\n",
    "smooth          = 0.1"
   ]
  },
  {
   "cell_type": "code",
   "execution_count": 13,
   "metadata": {},
   "outputs": [
    {
     "data": {
      "text/plain": [
       "array([[1.],\n",
       "       [1.],\n",
       "       [1.],\n",
       "       [1.],\n",
       "       [1.],\n",
       "       [1.],\n",
       "       [1.],\n",
       "       [1.],\n",
       "       [1.],\n",
       "       [1.],\n",
       "       [1.],\n",
       "       [1.],\n",
       "       [1.],\n",
       "       [1.],\n",
       "       [1.],\n",
       "       [1.]])"
      ]
     },
     "execution_count": 13,
     "metadata": {},
     "output_type": "execute_result"
    }
   ],
   "source": [
    "y_eval_real"
   ]
  },
  {
   "cell_type": "code",
   "execution_count": 14,
   "metadata": {},
   "outputs": [],
   "source": [
    "# create a GAN, a generator and a discriminator\n",
    "gan, generator, discriminator = make_2dtraj_GAN(\n",
    "    sample_size, \n",
    "    g_hidden_size, \n",
    "    d_hidden_size, \n",
    "    leaky_alpha, \n",
    "    g_learning_rate,\n",
    "    d_learning_rate)"
   ]
  },
  {
   "cell_type": "code",
   "execution_count": 15,
   "metadata": {},
   "outputs": [
    {
     "name": "stdout",
     "output_type": "stream",
     "text": [
      "_________________________________________________________________\n",
      "Layer (type)                 Output Shape              Param #   \n",
      "=================================================================\n",
      "dense_3 (Dense)              (None, 128)               384       \n",
      "_________________________________________________________________\n",
      "leaky_re_lu_2 (LeakyReLU)    (None, 128)               0         \n",
      "_________________________________________________________________\n",
      "dense_4 (Dense)              (None, 1)                 129       \n",
      "_________________________________________________________________\n",
      "activation_2 (Activation)    (None, 1)                 0         \n",
      "=================================================================\n",
      "Total params: 513\n",
      "Trainable params: 513\n",
      "Non-trainable params: 0\n",
      "_________________________________________________________________\n"
     ]
    }
   ],
   "source": [
    "discriminator.summary()"
   ]
  },
  {
   "cell_type": "code",
   "execution_count": 16,
   "metadata": {},
   "outputs": [
    {
     "data": {
      "text/plain": [
       "array([[-0.25302227,  0.40644241],\n",
       "       [ 0.69642728, -0.83685729],\n",
       "       [-0.09870602,  0.63316361],\n",
       "       ...,\n",
       "       [-0.74132897,  0.0503772 ],\n",
       "       [-0.35616628,  0.38339919],\n",
       "       [-0.14329459,  0.61328613]])"
      ]
     },
     "execution_count": 16,
     "metadata": {},
     "output_type": "execute_result"
    }
   ],
   "source": [
    "test"
   ]
  },
  {
   "cell_type": "code",
   "execution_count": null,
   "metadata": {},
   "outputs": [],
   "source": []
  },
  {
   "cell_type": "code",
   "execution_count": 17,
   "metadata": {},
   "outputs": [
    {
     "name": "stderr",
     "output_type": "stream",
     "text": [
      "/Users/je714/miniconda3/envs/dl/lib/python3.6/site-packages/keras/engine/training.py:973: UserWarning: Discrepancy between trainable weights and collected trainable weights, did you set `model.trainable` without calling `model.compile` after ?\n",
      "  'Discrepancy between trainable weights and collected trainable'\n"
     ]
    },
    {
     "name": "stdout",
     "output_type": "stream",
     "text": [
      "Epoch:   1/100 Discriminator Loss: 0.9941 Generator Loss: 1.1476\n",
      "Epoch:   2/100 Discriminator Loss: 0.9933 Generator Loss: 1.1991\n",
      "Epoch:   3/100 Discriminator Loss: 1.2541 Generator Loss: 0.8986\n",
      "Epoch:   4/100 Discriminator Loss: 1.2476 Generator Loss: 0.8771\n",
      "Epoch:   5/100 Discriminator Loss: 1.3937 Generator Loss: 0.8026\n",
      "Epoch:   6/100 Discriminator Loss: 1.3151 Generator Loss: 0.8253\n",
      "Epoch:   7/100 Discriminator Loss: 1.3521 Generator Loss: 0.8122\n",
      "Epoch:   8/100 Discriminator Loss: 1.2572 Generator Loss: 0.8885\n",
      "Epoch:   9/100 Discriminator Loss: 1.4035 Generator Loss: 0.7815\n",
      "Epoch:  10/100 Discriminator Loss: 1.3382 Generator Loss: 0.7781\n",
      "Epoch:  11/100 Discriminator Loss: 1.2382 Generator Loss: 0.8809\n",
      "Epoch:  12/100 Discriminator Loss: 1.3815 Generator Loss: 0.8317\n",
      "Epoch:  13/100 Discriminator Loss: 1.2778 Generator Loss: 0.8039\n",
      "Epoch:  14/100 Discriminator Loss: 1.3257 Generator Loss: 0.8603\n",
      "Epoch:  15/100 Discriminator Loss: 1.3076 Generator Loss: 0.8346\n",
      "Epoch:  16/100 Discriminator Loss: 1.4450 Generator Loss: 0.8322\n",
      "Epoch:  17/100 Discriminator Loss: 1.2919 Generator Loss: 0.8799\n",
      "Epoch:  18/100 Discriminator Loss: 1.2403 Generator Loss: 0.8316\n",
      "Epoch:  19/100 Discriminator Loss: 1.4177 Generator Loss: 0.7953\n",
      "Epoch:  20/100 Discriminator Loss: 1.2685 Generator Loss: 0.8186\n",
      "Epoch:  21/100 Discriminator Loss: 1.2484 Generator Loss: 0.8778\n",
      "Epoch:  22/100 Discriminator Loss: 1.2431 Generator Loss: 0.8258\n",
      "Epoch:  23/100 Discriminator Loss: 1.1482 Generator Loss: 0.8704\n",
      "Epoch:  24/100 Discriminator Loss: 1.2847 Generator Loss: 0.7583\n",
      "Epoch:  25/100 Discriminator Loss: 1.5298 Generator Loss: 0.7477\n",
      "Epoch:  26/100 Discriminator Loss: 1.4003 Generator Loss: 0.7830\n",
      "Epoch:  27/100 Discriminator Loss: 1.3448 Generator Loss: 0.8989\n",
      "Epoch:  28/100 Discriminator Loss: 1.4007 Generator Loss: 0.8588\n",
      "Epoch:  29/100 Discriminator Loss: 1.2959 Generator Loss: 0.8391\n",
      "Epoch:  30/100 Discriminator Loss: 1.4135 Generator Loss: 0.8014\n",
      "Epoch:  31/100 Discriminator Loss: 1.2975 Generator Loss: 0.8620\n",
      "Epoch:  32/100 Discriminator Loss: 1.2854 Generator Loss: 0.8437\n",
      "Epoch:  33/100 Discriminator Loss: 1.3213 Generator Loss: 0.8411\n",
      "Epoch:  34/100 Discriminator Loss: 1.3551 Generator Loss: 0.8341\n",
      "Epoch:  35/100 Discriminator Loss: 1.2330 Generator Loss: 0.8954\n",
      "Epoch:  36/100 Discriminator Loss: 1.3467 Generator Loss: 0.7931\n",
      "Epoch:  37/100 Discriminator Loss: 1.3177 Generator Loss: 0.8746\n",
      "Epoch:  38/100 Discriminator Loss: 1.1145 Generator Loss: 0.8576\n",
      "Epoch:  39/100 Discriminator Loss: 1.2941 Generator Loss: 0.8554\n",
      "Epoch:  40/100 Discriminator Loss: 1.3436 Generator Loss: 0.8472\n",
      "Epoch:  41/100 Discriminator Loss: 1.1702 Generator Loss: 0.8294\n",
      "Epoch:  42/100 Discriminator Loss: 1.2269 Generator Loss: 0.8350\n",
      "Epoch:  43/100 Discriminator Loss: 1.2756 Generator Loss: 0.8398\n",
      "Epoch:  44/100 Discriminator Loss: 1.2349 Generator Loss: 0.8454\n",
      "Epoch:  45/100 Discriminator Loss: 1.3035 Generator Loss: 0.8694\n",
      "Epoch:  46/100 Discriminator Loss: 1.2793 Generator Loss: 0.8500\n",
      "Epoch:  47/100 Discriminator Loss: 1.3373 Generator Loss: 0.8255\n",
      "Epoch:  48/100 Discriminator Loss: 1.3432 Generator Loss: 0.8315\n",
      "Epoch:  49/100 Discriminator Loss: 1.3036 Generator Loss: 0.7900\n",
      "Epoch:  50/100 Discriminator Loss: 1.3724 Generator Loss: 0.8249\n",
      "Epoch:  51/100 Discriminator Loss: 1.3944 Generator Loss: 0.7690\n",
      "Epoch:  52/100 Discriminator Loss: 1.3019 Generator Loss: 0.8773\n",
      "Epoch:  53/100 Discriminator Loss: 1.2957 Generator Loss: 0.8244\n",
      "Epoch:  54/100 Discriminator Loss: 1.3953 Generator Loss: 0.8037\n",
      "Epoch:  55/100 Discriminator Loss: 1.4014 Generator Loss: 0.7446\n",
      "Epoch:  56/100 Discriminator Loss: 1.2558 Generator Loss: 0.7929\n",
      "Epoch:  57/100 Discriminator Loss: 1.2248 Generator Loss: 0.8762\n",
      "Epoch:  58/100 Discriminator Loss: 1.1879 Generator Loss: 0.8732\n",
      "Epoch:  59/100 Discriminator Loss: 1.3231 Generator Loss: 0.8211\n",
      "Epoch:  60/100 Discriminator Loss: 1.3951 Generator Loss: 0.8020\n",
      "Epoch:  61/100 Discriminator Loss: 1.3091 Generator Loss: 0.8023\n",
      "Epoch:  62/100 Discriminator Loss: 1.4474 Generator Loss: 0.7927\n",
      "Epoch:  63/100 Discriminator Loss: 1.4520 Generator Loss: 0.7861\n",
      "Epoch:  64/100 Discriminator Loss: 1.2476 Generator Loss: 0.8613\n",
      "Epoch:  65/100 Discriminator Loss: 1.3415 Generator Loss: 0.8513\n",
      "Epoch:  66/100 Discriminator Loss: 1.3982 Generator Loss: 0.8553\n",
      "Epoch:  67/100 Discriminator Loss: 1.3027 Generator Loss: 0.8193\n",
      "Epoch:  68/100 Discriminator Loss: 1.3997 Generator Loss: 0.7575\n",
      "Epoch:  69/100 Discriminator Loss: 1.3279 Generator Loss: 0.8024\n",
      "Epoch:  70/100 Discriminator Loss: 1.3396 Generator Loss: 0.7996\n",
      "Epoch:  71/100 Discriminator Loss: 1.2934 Generator Loss: 0.8144\n",
      "Epoch:  72/100 Discriminator Loss: 1.3203 Generator Loss: 0.7958\n",
      "Epoch:  73/100 Discriminator Loss: 1.2850 Generator Loss: 0.8462\n",
      "Epoch:  74/100 Discriminator Loss: 1.3577 Generator Loss: 0.8360\n",
      "Epoch:  75/100 Discriminator Loss: 1.2975 Generator Loss: 0.8954\n",
      "Epoch:  76/100 Discriminator Loss: 1.2402 Generator Loss: 0.8378\n",
      "Epoch:  77/100 Discriminator Loss: 1.3793 Generator Loss: 0.7960\n",
      "Epoch:  78/100 Discriminator Loss: 1.3490 Generator Loss: 0.7887\n",
      "Epoch:  79/100 Discriminator Loss: 1.2960 Generator Loss: 0.8209\n",
      "Epoch:  80/100 Discriminator Loss: 1.3519 Generator Loss: 0.8393\n",
      "Epoch:  81/100 Discriminator Loss: 1.3857 Generator Loss: 0.8341\n",
      "Epoch:  82/100 Discriminator Loss: 1.3025 Generator Loss: 0.7642\n",
      "Epoch:  83/100 Discriminator Loss: 1.3909 Generator Loss: 0.8400\n",
      "Epoch:  84/100 Discriminator Loss: 1.2971 Generator Loss: 0.8413\n",
      "Epoch:  85/100 Discriminator Loss: 1.3403 Generator Loss: 0.8335\n",
      "Epoch:  86/100 Discriminator Loss: 1.3882 Generator Loss: 0.8042\n",
      "Epoch:  87/100 Discriminator Loss: 1.3438 Generator Loss: 0.7635\n",
      "Epoch:  88/100 Discriminator Loss: 1.3831 Generator Loss: 0.7605\n",
      "Epoch:  89/100 Discriminator Loss: 1.3728 Generator Loss: 0.7634\n",
      "Epoch:  90/100 Discriminator Loss: 1.3349 Generator Loss: 0.8152\n",
      "Epoch:  91/100 Discriminator Loss: 1.4277 Generator Loss: 0.7292\n",
      "Epoch:  92/100 Discriminator Loss: 1.4118 Generator Loss: 0.7543\n",
      "Epoch:  93/100 Discriminator Loss: 1.3866 Generator Loss: 0.7611\n",
      "Epoch:  94/100 Discriminator Loss: 1.3793 Generator Loss: 0.7588\n",
      "Epoch:  95/100 Discriminator Loss: 1.3925 Generator Loss: 0.7447\n",
      "Epoch:  96/100 Discriminator Loss: 1.4150 Generator Loss: 0.7515\n",
      "Epoch:  97/100 Discriminator Loss: 1.3816 Generator Loss: 0.7696\n",
      "Epoch:  98/100 Discriminator Loss: 1.3857 Generator Loss: 0.7540\n",
      "Epoch:  99/100 Discriminator Loss: 1.3985 Generator Loss: 0.7393\n",
      "Epoch: 100/100 Discriminator Loss: 1.3756 Generator Loss: 0.7482\n"
     ]
    }
   ],
   "source": [
    "losses = []\n",
    "for e in range(epochs):\n",
    "    for i in range(len(train)//batch_size):\n",
    "        # real x y coords\n",
    "        X_batch_real = train[i*batch_size:(i+1)*batch_size]\n",
    "        \n",
    "\n",
    "        # latent samples and the generated x y coords\n",
    "        latent_samples = make_latent_samples(batch_size, sample_size)\n",
    "        X_batch_fake = generator.predict_on_batch(latent_samples)\n",
    "        \n",
    "        # train the discriminator to detect real and fake images\n",
    "        make_trainable(discriminator, True)\n",
    "        discriminator.train_on_batch(X_batch_real, y_train_real * (1 - smooth))\n",
    "        discriminator.train_on_batch(X_batch_fake, y_train_fake)\n",
    "        \n",
    "        # train the generator via GAN\n",
    "        make_trainable(discriminator, False)\n",
    "        gan.train_on_batch(latent_samples, y_train_real)\n",
    "        \n",
    "        \n",
    "    # evaluate\n",
    "    X_eval_real = test[np.random.choice(len(test), eval_size, replace=False)]\n",
    "    \n",
    "    latent_samples = make_latent_samples(eval_size, sample_size)\n",
    "    X_eval_fake = generator.predict_on_batch(latent_samples)\n",
    "\n",
    "    d_loss  = discriminator.test_on_batch(X_eval_real, y_eval_real)\n",
    "    d_loss += discriminator.test_on_batch(X_eval_fake, y_eval_fake)\n",
    "    g_loss  = gan.test_on_batch(latent_samples, y_eval_real) # we want the fake to be realistic!\n",
    "    \n",
    "    losses.append((d_loss, g_loss))\n",
    "    \n",
    "    print(\"Epoch: {:>3}/{} Discriminator Loss: {:>6.4f} Generator Loss: {:>6.4f}\".format(\n",
    "        e+1, epochs, d_loss, g_loss))"
   ]
  },
  {
   "cell_type": "code",
   "execution_count": 18,
   "metadata": {},
   "outputs": [
    {
     "data": {
      "image/png": "[encoded data removed]",
      "text/plain": [
       "<matplotlib.figure.Figure at 0x136f5d320>"
      ]
     },
     "metadata": {},
     "output_type": "display_data"
    }
   ],
   "source": [
    "losses = np.array(losses)\n",
    "\n",
    "fig, ax = plt.subplots()\n",
    "plt.plot(losses.T[0], label='Discriminator')\n",
    "plt.plot(losses.T[1], label='Generator')\n",
    "plt.title(\"Training Losses\")\n",
    "plt.legend()\n",
    "plt.show()\n",
    "fig.savefig('ayy.png')"
   ]
  },
  {
   "cell_type": "code",
   "execution_count": 19,
   "metadata": {},
   "outputs": [],
   "source": [
    "latent_samples = make_latent_samples(50000, sample_size)\n",
    "generated_coords = generator.predict(latent_samples)"
   ]
  },
  {
   "cell_type": "code",
   "execution_count": 24,
   "metadata": {},
   "outputs": [
    {
     "data": {
      "image/png": "[encoded data removed]",
      "text/plain": [
       "<matplotlib.figure.Figure at 0x1310d1550>"
      ]
     },
     "metadata": {},
     "output_type": "display_data"
    }
   ],
   "source": [
    "f, ax = plt.subplots()\n",
    "ax = scatter(txx, scatter_kws={'label':'real'}, ax=ax)\n",
    "scatter(sc.inverse_transform(generated_coords), ax, {'label':'fake'})\n",
    "ax.legend()\n",
    "f.savefig('first_test.png')"
   ]
  },
  {
   "cell_type": "code",
   "execution_count": null,
   "metadata": {},
   "outputs": [],
   "source": []
  }
 ],
 "metadata": {
  "kernelspec": {
   "display_name": "Python 3",
   "language": "python",
   "name": "python3"
  },
  "language_info": {
   "codemirror_mode": {
    "name": "ipython",
    "version": 3
   },
   "file_extension": ".py",
   "mimetype": "text/x-python",
   "name": "python",
   "nbconvert_exporter": "python",
   "pygments_lexer": "ipython3",
   "version": "3.6.4"
  }
 },
 "nbformat": 4,
 "nbformat_minor": 2
}
