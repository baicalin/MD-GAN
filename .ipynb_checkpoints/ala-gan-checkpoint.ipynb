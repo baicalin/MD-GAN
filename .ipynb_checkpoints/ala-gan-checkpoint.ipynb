{
 "cells": [
  {
   "cell_type": "code",
   "execution_count": 1,
   "metadata": {},
   "outputs": [
    {
     "name": "stderr",
     "output_type": "stream",
     "text": [
      "/Users/je714/miniconda3/envs/dl/lib/python3.6/site-packages/sklearn/cross_validation.py:41: DeprecationWarning: This module was deprecated in version 0.18 in favor of the model_selection module into which all the refactored classes and functions are moved. Also note that the interface of the new CV iterators are different from that of this module. This module will be removed in 0.20.\n",
      "  \"This module will be removed in 0.20.\", DeprecationWarning)\n",
      "/Users/je714/miniconda3/envs/dl/lib/python3.6/site-packages/sklearn/grid_search.py:42: DeprecationWarning: This module was deprecated in version 0.18 in favor of the model_selection module into which all the refactored classes and functions are moved. This module will be removed in 0.20.\n",
      "  DeprecationWarning)\n",
      "/Users/je714/miniconda3/envs/dl/lib/python3.6/site-packages/statsmodels/compat/pandas.py:56: FutureWarning: The pandas.core.datetools module is deprecated and will be removed in a future version. Please use the pandas.tseries module instead.\n",
      "  from pandas.core import datetools\n",
      "/Users/je714/miniconda3/envs/dl/lib/python3.6/site-packages/h5py/__init__.py:36: FutureWarning: Conversion of the second argument of issubdtype from `float` to `np.floating` is deprecated. In future, it will be treated as `np.float64 == np.dtype(float).type`.\n",
      "  from ._conv import register_converters as _register_converters\n",
      "Using TensorFlow backend.\n"
     ]
    }
   ],
   "source": [
    "from msmbuilder.example_datasets import AlanineDipeptide\n",
    "from msmbuilder.preprocessing import MinMaxScaler\n",
    "%matplotlib inline\n",
    "from sklearn.model_selection import train_test_split\n",
    "import seaborn as sns\n",
    "import matplotlib.pyplot as plt\n",
    "\n",
    "import numpy as np\n",
    "\n",
    "\n",
    "import keras\n",
    "import keras.backend as K\n",
    "from keras.layers import Input, Dense, Reshape, Flatten, Dropout\n",
    "from keras.layers import BatchNormalization, Activation, ZeroPadding2D, ZeroPadding3D\n",
    "from keras.layers.advanced_activations import LeakyReLU\n",
    "from keras.layers.convolutional import UpSampling2D, Conv2D, UpSampling3D, Conv3D, UpSampling1D, Conv2DTranspose\n",
    "from keras.models import Sequential, Model\n",
    "from keras.optimizers import Adam\n",
    "\n",
    "\n",
    "\n",
    "\n",
    "from sklearn.model_selection import train_test_split\n",
    "import matplotlib.pyplot as plt\n",
    "\n",
    "\n",
    "from utils import *\n",
    "\n"
   ]
  },
  {
   "cell_type": "markdown",
   "metadata": {},
   "source": [
    "The dataset consists of ten 10ns trajectories of of alanine dipeptide,\n",
    "simulated using OpenMM 6.0.1 (CUDA platform, NVIDIA GTX660) with the\n",
    "AMBER99SB-ILDN force field at 300K (langevin dynamics, friction coefficient\n",
    "of 91/ps, timestep of 2fs) with GBSA implicit solvent. The coordinates are\n",
    "saved every 1ps. Each trajectory contains 9,999 snapshots."
   ]
  },
  {
   "cell_type": "code",
   "execution_count": 2,
   "metadata": {},
   "outputs": [
    {
     "name": "stdout",
     "output_type": "stream",
     "text": [
      "alanine_dipeptide already is cached\n"
     ]
    }
   ],
   "source": [
    "trjs = AlanineDipeptide().get().trajectories"
   ]
  },
  {
   "cell_type": "code",
   "execution_count": 3,
   "metadata": {},
   "outputs": [],
   "source": [
    "frame00 = trjs[0][0]\n",
    "\n",
    "trjs = [t.superpose(frame00) for t in trjs]\n"
   ]
  },
  {
   "cell_type": "code",
   "execution_count": 4,
   "metadata": {},
   "outputs": [],
   "source": [
    "trj_xyz = [t.xyz for t in trjs]"
   ]
  },
  {
   "cell_type": "code",
   "execution_count": 5,
   "metadata": {},
   "outputs": [],
   "source": [
    "sc = MinMaxScaler(feature_range=(-1 , 1))"
   ]
  },
  {
   "cell_type": "code",
   "execution_count": 6,
   "metadata": {},
   "outputs": [],
   "source": [
    "frames = []\n",
    "for t in trjs:\n",
    "    for f in t:\n",
    "        frames.append(f.xyz.reshape(22, 3))"
   ]
  },
  {
   "cell_type": "code",
   "execution_count": 7,
   "metadata": {},
   "outputs": [
    {
     "data": {
      "text/plain": [
       "(22, 3)"
      ]
     },
     "execution_count": 7,
     "metadata": {},
     "output_type": "execute_result"
    }
   ],
   "source": [
    "frames[0].shape"
   ]
  },
  {
   "cell_type": "code",
   "execution_count": 8,
   "metadata": {},
   "outputs": [],
   "source": [
    "f_txx_sc = sc.fit_transform(frames)\n"
   ]
  },
  {
   "cell_type": "code",
   "execution_count": 9,
   "metadata": {},
   "outputs": [
    {
     "data": {
      "text/plain": [
       "99999"
      ]
     },
     "execution_count": 9,
     "metadata": {},
     "output_type": "execute_result"
    }
   ],
   "source": [
    "len(f_txx_sc)"
   ]
  },
  {
   "cell_type": "code",
   "execution_count": 10,
   "metadata": {},
   "outputs": [
    {
     "data": {
      "text/plain": [
       "(22, 3)"
      ]
     },
     "execution_count": 10,
     "metadata": {},
     "output_type": "execute_result"
    }
   ],
   "source": [
    "f_txx_sc[0].shape"
   ]
  },
  {
   "cell_type": "code",
   "execution_count": 11,
   "metadata": {},
   "outputs": [],
   "source": [
    "data = np.dstack(f_txx_sc)"
   ]
  },
  {
   "cell_type": "code",
   "execution_count": 12,
   "metadata": {},
   "outputs": [],
   "source": [
    "\n",
    "data = data.reshape((-1, 22, 3))"
   ]
  },
  {
   "cell_type": "code",
   "execution_count": 13,
   "metadata": {},
   "outputs": [],
   "source": [
    "train, test = train_test_split(data)"
   ]
  },
  {
   "cell_type": "code",
   "execution_count": 14,
   "metadata": {},
   "outputs": [
    {
     "data": {
      "text/plain": [
       "(99999, 22, 3)"
      ]
     },
     "execution_count": 14,
     "metadata": {},
     "output_type": "execute_result"
    }
   ],
   "source": [
    "\n",
    "data.shape"
   ]
  },
  {
   "cell_type": "code",
   "execution_count": 15,
   "metadata": {},
   "outputs": [
    {
     "data": {
      "text/plain": [
       "(74999, 22, 3)"
      ]
     },
     "execution_count": 15,
     "metadata": {},
     "output_type": "execute_result"
    }
   ],
   "source": [
    "train.shape"
   ]
  },
  {
   "cell_type": "code",
   "execution_count": 16,
   "metadata": {},
   "outputs": [
    {
     "data": {
      "image/png": "[encoded data removed]",
      "text/plain": [
       "<matplotlib.figure.Figure at 0x1311c8b38>"
      ]
     },
     "metadata": {},
     "output_type": "display_data"
    }
   ],
   "source": [
    "f, (ax1, ax2, ax3) =plt.subplots(1, 3)\n",
    "ax1.scatter(train[::100, :, 0], train[::100, :, 1])\n",
    "ax2.scatter(train[::100, :, 0], train[::100, :, 2])\n",
    "ax3.scatter(train[::100, :, 1], train[::100, :, 2])\n",
    "ax1.set(xlabel='x', ylabel='y')\n",
    "ax2.set(xlabel='x', ylabel='z')\n",
    "ax3.set(xlabel='y', ylabel='z')\n",
    "f.tight_layout()"
   ]
  },
  {
   "cell_type": "markdown",
   "metadata": {},
   "source": [
    "# generator"
   ]
  },
  {
   "cell_type": "code",
   "execution_count": 17,
   "metadata": {},
   "outputs": [
    {
     "name": "stdout",
     "output_type": "stream",
     "text": [
      "_________________________________________________________________\n",
      "Layer (type)                 Output Shape              Param #   \n",
      "=================================================================\n",
      "dense_1 (Dense)              (None, 6600)              666600    \n",
      "_________________________________________________________________\n",
      "leaky_re_lu_1 (LeakyReLU)    (None, 6600)              0         \n",
      "_________________________________________________________________\n",
      "reshape_1 (Reshape)          (None, 22, 3, 100)        0         \n",
      "_________________________________________________________________\n",
      "conv2d_transpose_1 (Conv2DTr (None, 22, 3, 1)          6601      \n",
      "=================================================================\n",
      "Total params: 673,201\n",
      "Trainable params: 673,201\n",
      "Non-trainable params: 0\n",
      "_________________________________________________________________\n"
     ]
    }
   ],
   "source": [
    "g = Sequential([\n",
    "    Dense(22 * 3 * 100, input_dim=100),\n",
    "    LeakyReLU(),\n",
    "    Reshape((22, 3, 100)),\n",
    "    Conv2DTranspose(1, (22, 3), activation='tanh', padding='same')\n",
    "])\n",
    "\n",
    "\n",
    "\n",
    "g.compile(Adam(), loss='binary_crossentropy')\n",
    "g.summary()"
   ]
  },
  {
   "cell_type": "code",
   "execution_count": 18,
   "metadata": {},
   "outputs": [
    {
     "data": {
      "text/plain": [
       "(5, 22, 3, 1)"
      ]
     },
     "execution_count": 18,
     "metadata": {},
     "output_type": "execute_result"
    }
   ],
   "source": [
    "g.predict_on_batch(make_latent_samples(5, 100)).shape"
   ]
  },
  {
   "cell_type": "markdown",
   "metadata": {},
   "source": [
    "# discriminator"
   ]
  },
  {
   "cell_type": "code",
   "execution_count": 19,
   "metadata": {},
   "outputs": [
    {
     "name": "stdout",
     "output_type": "stream",
     "text": [
      "_________________________________________________________________\n",
      "Layer (type)                 Output Shape              Param #   \n",
      "=================================================================\n",
      "conv2d_1 (Conv2D)            (None, 11, 2, 32)         320       \n",
      "_________________________________________________________________\n",
      "leaky_re_lu_2 (LeakyReLU)    (None, 11, 2, 32)         0         \n",
      "_________________________________________________________________\n",
      "dropout_1 (Dropout)          (None, 11, 2, 32)         0         \n",
      "_________________________________________________________________\n",
      "conv2d_2 (Conv2D)            (None, 11, 2, 64)         18496     \n",
      "_________________________________________________________________\n",
      "leaky_re_lu_3 (LeakyReLU)    (None, 11, 2, 64)         0         \n",
      "_________________________________________________________________\n",
      "dropout_2 (Dropout)          (None, 11, 2, 64)         0         \n",
      "_________________________________________________________________\n",
      "conv2d_3 (Conv2D)            (None, 11, 2, 128)        73856     \n",
      "_________________________________________________________________\n",
      "leaky_re_lu_4 (LeakyReLU)    (None, 11, 2, 128)        0         \n",
      "_________________________________________________________________\n",
      "dropout_3 (Dropout)          (None, 11, 2, 128)        0         \n",
      "_________________________________________________________________\n",
      "flatten_1 (Flatten)          (None, 2816)              0         \n",
      "_________________________________________________________________\n",
      "dense_2 (Dense)              (None, 1)                 2817      \n",
      "=================================================================\n",
      "Total params: 95,489\n",
      "Trainable params: 95,489\n",
      "Non-trainable params: 0\n",
      "_________________________________________________________________\n"
     ]
    }
   ],
   "source": [
    "d = Sequential([\n",
    "    \n",
    "    Conv2D(32, 3, padding='same', strides=2, input_shape=(22, 3, 1)),\n",
    "    LeakyReLU(),\n",
    "    Dropout(0.3),\n",
    "    \n",
    "    Conv2D(64, 3, padding='same', strides=1),\n",
    "    LeakyReLU(),\n",
    "    Dropout(0.3),\n",
    "    \n",
    "    \n",
    "    Conv2D(128, 3, padding='same', strides=1),\n",
    "    LeakyReLU(),\n",
    "    Dropout(0.3),\n",
    "    \n",
    "    Flatten(),\n",
    "    Dense(1, activation='sigmoid')\n",
    "    \n",
    "], name='disc')\n",
    "d.compile(Adam(), 'binary_crossentropy')\n",
    "d.summary()"
   ]
  },
  {
   "cell_type": "markdown",
   "metadata": {},
   "source": [
    "# GAN"
   ]
  },
  {
   "cell_type": "code",
   "execution_count": 20,
   "metadata": {},
   "outputs": [],
   "source": [
    "gan = Sequential([g, d])\n",
    "gan.compile(Adam(), 'binary_crossentropy')"
   ]
  },
  {
   "cell_type": "code",
   "execution_count": 21,
   "metadata": {},
   "outputs": [
    {
     "name": "stdout",
     "output_type": "stream",
     "text": [
      "_________________________________________________________________\n",
      "Layer (type)                 Output Shape              Param #   \n",
      "=================================================================\n",
      "sequential_1 (Sequential)    (None, 22, 3, 1)          673201    \n",
      "_________________________________________________________________\n",
      "disc (Sequential)            (None, 1)                 95489     \n",
      "=================================================================\n",
      "Total params: 768,690\n",
      "Trainable params: 768,690\n",
      "Non-trainable params: 0\n",
      "_________________________________________________________________\n"
     ]
    }
   ],
   "source": [
    "gan.summary()"
   ]
  },
  {
   "cell_type": "markdown",
   "metadata": {},
   "source": [
    "# Train Loop"
   ]
  },
  {
   "cell_type": "code",
   "execution_count": 22,
   "metadata": {},
   "outputs": [
    {
     "name": "stderr",
     "output_type": "stream",
     "text": [
      "/Users/je714/miniconda3/envs/dl/lib/python3.6/site-packages/keras/engine/training.py:973: UserWarning: Discrepancy between trainable weights and collected trainable weights, did you set `model.trainable` without calling `model.compile` after ?\n",
      "  'Discrepancy between trainable weights and collected trainable'\n"
     ]
    },
    {
     "name": "stdout",
     "output_type": "stream",
     "text": [
      "Epoch:   1/25 Discriminator Loss: 0.8681 Generator Loss: 0.2859\n",
      "Epoch:   2/25 Discriminator Loss: 0.7257 Generator Loss: 0.3753\n",
      "Epoch:   3/25 Discriminator Loss: 0.8266 Generator Loss: 0.2819\n",
      "Epoch:   4/25 Discriminator Loss: 0.6792 Generator Loss: 0.4201\n",
      "Epoch:   5/25 Discriminator Loss: 0.8956 Generator Loss: 0.2431\n",
      "Epoch:   6/25 Discriminator Loss: 0.8399 Generator Loss: 0.2826\n",
      "Epoch:   7/25 Discriminator Loss: 0.8314 Generator Loss: 0.2852\n",
      "Epoch:   8/25 Discriminator Loss: 0.6738 Generator Loss: 0.4350\n",
      "Epoch:   9/25 Discriminator Loss: 0.6727 Generator Loss: 0.4679\n",
      "Epoch:  10/25 Discriminator Loss: 0.8719 Generator Loss: 0.2680\n",
      "Epoch:  11/25 Discriminator Loss: 0.9698 Generator Loss: 0.2341\n",
      "Epoch:  12/25 Discriminator Loss: 0.9931 Generator Loss: 0.2397\n",
      "Epoch:  13/25 Discriminator Loss: 0.9195 Generator Loss: 0.2236\n",
      "Epoch:  14/25 Discriminator Loss: 1.0326 Generator Loss: 0.1677\n",
      "Epoch:  15/25 Discriminator Loss: 1.0659 Generator Loss: 0.1540\n",
      "Epoch:  16/25 Discriminator Loss: 1.2281 Generator Loss: 0.1152\n",
      "Epoch:  17/25 Discriminator Loss: 0.9469 Generator Loss: 0.2155\n",
      "Epoch:  18/25 Discriminator Loss: 1.2910 Generator Loss: 0.0956\n",
      "Epoch:  19/25 Discriminator Loss: 1.0025 Generator Loss: 0.2508\n",
      "Epoch:  20/25 Discriminator Loss: 0.9609 Generator Loss: 0.1957\n",
      "Epoch:  21/25 Discriminator Loss: 0.7351 Generator Loss: 0.5437\n",
      "Epoch:  22/25 Discriminator Loss: 1.0287 Generator Loss: 0.1683\n",
      "Epoch:  23/25 Discriminator Loss: 1.3752 Generator Loss: 0.0790\n",
      "Epoch:  24/25 Discriminator Loss: 1.4237 Generator Loss: 0.1613\n",
      "Epoch:  25/25 Discriminator Loss: 1.5789 Generator Loss: 0.0522\n"
     ]
    }
   ],
   "source": [
    "batch_size = 250\n",
    "num_epochs = 25\n",
    "eval_size = 200\n",
    "losses = []\n",
    "\n",
    "for epoch in range(num_epochs):\n",
    "    for i in range(len(train)//batch_size):\n",
    "        # ------------------\n",
    "        # Train Disciminator\n",
    "        # ------------------\n",
    "        make_trainable(d, True)\n",
    "\n",
    "        confs = train[i*batch_size:(i+1)*batch_size]  # real conformations from training set\n",
    "        confs = confs.reshape(-1, 22, 3, 1)\n",
    "    \n",
    "        # Sample 100 dimensional noise and generate fake confs\n",
    "        noise = make_latent_samples(batch_size, 100)\n",
    "        fake_confs = g.predict_on_batch(noise)\n",
    "        \n",
    "        d.train_on_batch(confs, np.ones((batch_size, 1)) - 0.1)  # make real label 0.9 instead of 1\n",
    "        d.train_on_batch(fake_confs, np.zeros((batch_size, 1)))    \n",
    "    \n",
    "        # ---------------------\n",
    "        #  Train Generator via GAN (swith off discriminator)\n",
    "        # ---------------------\n",
    "        noise = make_latent_samples(batch_size, 100)  # generate new noise\n",
    "        make_trainable(d, False)\n",
    "        g_loss = gan.train_on_batch(noise, np.ones((batch_size, 1)) - 0.1)\n",
    "        \n",
    "    # Evaluate performance after epoch\n",
    "    conf_eval_real = test[np.random.choice(len(test), eval_size, replace=False)]\n",
    "    conf_eval_real = conf_eval_real.reshape(-1, 22, 3, 1)\n",
    "    noise = make_latent_samples(eval_size, 100)\n",
    "    conf_eval_fake = g.predict_on_batch(noise)\n",
    "    \n",
    "    d_loss_r = d.test_on_batch(conf_eval_real, np.ones(shape=(eval_size, 1)))\n",
    "    d_loss_f = d.test_on_batch(conf_eval_fake, np.zeros(shape=(eval_size, 1)))\n",
    "    d_loss = (d_loss_r + d_loss_f) / 2\n",
    "    \n",
    "    g_loss = gan.test_on_batch(noise, np.ones(shape=(eval_size, 1)))  # we want the fake to be realistic!\n",
    "        \n",
    "    print(\"Epoch: {:>3}/{} Discriminator Loss: {:>6.4f} Generator Loss: {:>6.4f}\".format(epoch+1, num_epochs, d_loss, g_loss))\n",
    "    \n",
    "    losses.append((d_loss, g_loss))\n",
    "    "
   ]
  },
  {
   "cell_type": "code",
   "execution_count": 23,
   "metadata": {},
   "outputs": [
    {
     "data": {
      "image/png": "[encoded data removed]",
      "text/plain": [
       "<matplotlib.figure.Figure at 0x130f31400>"
      ]
     },
     "metadata": {},
     "output_type": "display_data"
    }
   ],
   "source": [
    "losses = np.array(losses)\n",
    "\n",
    "fig, ax = plt.subplots()\n",
    "plt.plot(losses.T[0], label='Discriminator')\n",
    "plt.plot(losses.T[1], label='Generator')\n",
    "plt.title(\"Training Losses\")\n",
    "plt.legend()\n",
    "ax.set(ylabel='BCE', xlabel='Epoch')\n",
    "plt.show()\n"
   ]
  },
  {
   "cell_type": "code",
   "execution_count": 24,
   "metadata": {},
   "outputs": [],
   "source": [
    "f0 = g.predict(make_latent_samples(100, 100))"
   ]
  },
  {
   "cell_type": "code",
   "execution_count": 25,
   "metadata": {},
   "outputs": [
    {
     "data": {
      "text/plain": [
       "(100, 22, 3)"
      ]
     },
     "execution_count": 25,
     "metadata": {},
     "output_type": "execute_result"
    }
   ],
   "source": [
    "\n",
    "f0[:,:,:,0].shape"
   ]
  },
  {
   "cell_type": "code",
   "execution_count": 26,
   "metadata": {},
   "outputs": [
    {
     "data": {
      "text/plain": [
       "<matplotlib.collections.PathCollection at 0x137fb2080>"
      ]
     },
     "execution_count": 26,
     "metadata": {},
     "output_type": "execute_result"
    },
    {
     "data": {
      "image/png": "[encoded data removed]",
      "text/plain": [
       "<matplotlib.figure.Figure at 0x130f31a90>"
      ]
     },
     "metadata": {},
     "output_type": "display_data"
    }
   ],
   "source": [
    "plt.scatter(f0[:,:,0,0], f0[:,:,1,0])"
   ]
  },
  {
   "cell_type": "code",
   "execution_count": null,
   "metadata": {},
   "outputs": [],
   "source": []
  },
  {
   "cell_type": "code",
   "execution_count": null,
   "metadata": {},
   "outputs": [],
   "source": []
  },
  {
   "cell_type": "code",
   "execution_count": null,
   "metadata": {},
   "outputs": [],
   "source": []
  },
  {
   "cell_type": "code",
   "execution_count": 27,
   "metadata": {},
   "outputs": [],
   "source": [
    "import mdtraj"
   ]
  },
  {
   "cell_type": "code",
   "execution_count": 28,
   "metadata": {},
   "outputs": [],
   "source": [
    "ala_top = trjs[0].topology"
   ]
  },
  {
   "cell_type": "code",
   "execution_count": 29,
   "metadata": {},
   "outputs": [],
   "source": [
    "fk_tr = f0[:,:,:,0]"
   ]
  },
  {
   "cell_type": "code",
   "execution_count": 30,
   "metadata": {},
   "outputs": [],
   "source": [
    "fake_traj_orig_space = [sc.inverse_transform(t) for t in fk_tr]"
   ]
  },
  {
   "cell_type": "code",
   "execution_count": 31,
   "metadata": {},
   "outputs": [],
   "source": [
    "txx_fake = np.dstack(fake_traj_orig_space).reshape(100, 22, 3)"
   ]
  },
  {
   "cell_type": "code",
   "execution_count": 32,
   "metadata": {},
   "outputs": [
    {
     "data": {
      "text/plain": [
       "<matplotlib.collections.PathCollection at 0x138796ba8>"
      ]
     },
     "execution_count": 32,
     "metadata": {},
     "output_type": "execute_result"
    },
    {
     "data": {
      "image/png": "[encoded data removed]",
      "text/plain": [
       "<matplotlib.figure.Figure at 0x130f315f8>"
      ]
     },
     "metadata": {},
     "output_type": "display_data"
    }
   ],
   "source": [
    "scatter(train)\n",
    "plt.scatter(txx_fake[:, 0], txx_fake[:, 1])"
   ]
  },
  {
   "cell_type": "code",
   "execution_count": null,
   "metadata": {},
   "outputs": [],
   "source": []
  },
  {
   "cell_type": "code",
   "execution_count": null,
   "metadata": {},
   "outputs": [],
   "source": []
  },
  {
   "cell_type": "code",
   "execution_count": null,
   "metadata": {},
   "outputs": [],
   "source": []
  },
  {
   "cell_type": "code",
   "execution_count": null,
   "metadata": {},
   "outputs": [],
   "source": []
  },
  {
   "cell_type": "code",
   "execution_count": null,
   "metadata": {},
   "outputs": [],
   "source": []
  },
  {
   "cell_type": "code",
   "execution_count": 33,
   "metadata": {},
   "outputs": [
    {
     "data": {
      "text/plain": [
       "<mdtraj.Topology with 1 chains, 3 residues, 22 atoms, 21 bonds at 0x12e678f98>"
      ]
     },
     "execution_count": 33,
     "metadata": {},
     "output_type": "execute_result"
    }
   ],
   "source": [
    "ala_top"
   ]
  },
  {
   "cell_type": "code",
   "execution_count": 34,
   "metadata": {},
   "outputs": [
    {
     "data": {
      "text/plain": [
       "<mdtraj.Trajectory with 100 frames, 22 atoms, 3 residues, without unitcells at 0x13883e5c0>"
      ]
     },
     "execution_count": 34,
     "metadata": {},
     "output_type": "execute_result"
    }
   ],
   "source": [
    "fake_traj = mdtraj.Trajectory(fake_traj_orig_space, topology=ala_top)\n",
    "c = fake_traj.center_coordinates()\n",
    "c.superpose(c, 0)"
   ]
  },
  {
   "cell_type": "code",
   "execution_count": 35,
   "metadata": {},
   "outputs": [],
   "source": [
    "c.save_netcdf('fake_traj.nc')"
   ]
  },
  {
   "cell_type": "code",
   "execution_count": 36,
   "metadata": {},
   "outputs": [
    {
     "data": {
      "text/plain": [
       "(22, 3, 1)"
      ]
     },
     "execution_count": 36,
     "metadata": {},
     "output_type": "execute_result"
    }
   ],
   "source": [
    "\n",
    "f0[0].shape"
   ]
  },
  {
   "cell_type": "code",
   "execution_count": 37,
   "metadata": {},
   "outputs": [
    {
     "data": {
      "text/plain": [
       "<matplotlib.axes._subplots.AxesSubplot at 0x13886b2e8>"
      ]
     },
     "execution_count": 37,
     "metadata": {},
     "output_type": "execute_result"
    },
    {
     "data": {
      "image/png": "[encoded data removed]",
      "text/plain": [
       "<matplotlib.figure.Figure at 0x1388639e8>"
      ]
     },
     "metadata": {},
     "output_type": "display_data"
    }
   ],
   "source": [
    "ax = scatter(test[0])\n",
    "scatter(f0[0,:,:,0], ax=ax)"
   ]
  },
  {
   "cell_type": "code",
   "execution_count": 38,
   "metadata": {},
   "outputs": [
    {
     "data": {
      "text/plain": [
       "(22, 3, 1)"
      ]
     },
     "execution_count": 38,
     "metadata": {},
     "output_type": "execute_result"
    }
   ],
   "source": [
    "f0[0].shape"
   ]
  },
  {
   "cell_type": "code",
   "execution_count": 39,
   "metadata": {},
   "outputs": [],
   "source": [
    "real_traj = trjs[0]"
   ]
  },
  {
   "cell_type": "code",
   "execution_count": 40,
   "metadata": {},
   "outputs": [],
   "source": [
    "real_traj.center_coordinates()\n",
    "real_traj.superpose(real_traj, 0)\n",
    "real_traj.save_netcdf('real_traj.nc')"
   ]
  }
 ],
 "metadata": {
  "hide_input": false,
  "kernelspec": {
   "display_name": "Python 3",
   "language": "python",
   "name": "python3"
  },
  "language_info": {
   "codemirror_mode": {
    "name": "ipython",
    "version": 3
   },
   "file_extension": ".py",
   "mimetype": "text/x-python",
   "name": "python",
   "nbconvert_exporter": "python",
   "pygments_lexer": "ipython3",
   "version": "3.6.4"
  }
 },
 "nbformat": 4,
 "nbformat_minor": 2
}
