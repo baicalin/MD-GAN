{
 "cells": [
  {
   "cell_type": "code",
   "execution_count": 1,
   "metadata": {},
   "outputs": [
    {
     "name": "stderr",
     "output_type": "stream",
     "text": [
      "/Users/je714/miniconda3/lib/python3.6/site-packages/sklearn/cross_validation.py:41: DeprecationWarning: This module was deprecated in version 0.18 in favor of the model_selection module into which all the refactored classes and functions are moved. Also note that the interface of the new CV iterators are different from that of this module. This module will be removed in 0.20.\n",
      "  \"This module will be removed in 0.20.\", DeprecationWarning)\n",
      "/Users/je714/miniconda3/lib/python3.6/site-packages/sklearn/grid_search.py:42: DeprecationWarning: This module was deprecated in version 0.18 in favor of the model_selection module into which all the refactored classes and functions are moved. This module will be removed in 0.20.\n",
      "  DeprecationWarning)\n",
      "/Users/je714/miniconda3/lib/python3.6/site-packages/statsmodels/compat/pandas.py:56: FutureWarning: The pandas.core.datetools module is deprecated and will be removed in a future version. Please use the pandas.tseries module instead.\n",
      "  from pandas.core import datetools\n",
      "/Users/je714/miniconda3/lib/python3.6/site-packages/h5py/__init__.py:34: FutureWarning: Conversion of the second argument of issubdtype from `float` to `np.floating` is deprecated. In future, it will be treated as `np.float64 == np.dtype(float).type`.\n",
      "  from ._conv import register_converters as _register_converters\n",
      "Using TensorFlow backend.\n"
     ]
    }
   ],
   "source": [
    "from msmbuilder.example_datasets import AlanineDipeptide\n",
    "from msmbuilder.preprocessing import MinMaxScaler\n",
    "%matplotlib inline\n",
    "from sklearn.model_selection import train_test_split\n",
    "import seaborn as sns\n",
    "import matplotlib.pyplot as plt\n",
    "\n",
    "import numpy as np\n",
    "\n",
    "\n",
    "import keras\n",
    "import keras.backend as K\n",
    "from keras.layers import Input, Dense, Reshape, Flatten, Dropout\n",
    "from keras.layers import BatchNormalization, Activation, ZeroPadding2D, ZeroPadding3D\n",
    "from keras.layers.advanced_activations import LeakyReLU\n",
    "from keras.layers.convolutional import UpSampling2D, Conv2D, UpSampling3D, Conv3D, UpSampling1D, Conv2DTranspose\n",
    "from keras.models import Sequential, Model\n",
    "from keras.optimizers import Adam\n",
    "\n",
    "\n",
    "\n",
    "\n",
    "from sklearn.model_selection import train_test_split\n",
    "import matplotlib.pyplot as plt\n",
    "\n",
    "\n",
    "from utils import *\n",
    "\n"
   ]
  },
  {
   "cell_type": "markdown",
   "metadata": {},
   "source": [
    "The dataset consists of ten 10ns trajectories of of alanine dipeptide,\n",
    "simulated using OpenMM 6.0.1 (CUDA platform, NVIDIA GTX660) with the\n",
    "AMBER99SB-ILDN force field at 300K (langevin dynamics, friction coefficient\n",
    "of 91/ps, timestep of 2fs) with GBSA implicit solvent. The coordinates are\n",
    "saved every 1ps. Each trajectory contains 9,999 snapshots."
   ]
  },
  {
   "cell_type": "code",
   "execution_count": 2,
   "metadata": {},
   "outputs": [
    {
     "name": "stdout",
     "output_type": "stream",
     "text": [
      "alanine_dipeptide already is cached\n"
     ]
    }
   ],
   "source": [
    "trjs = AlanineDipeptide().get().trajectories"
   ]
  },
  {
   "cell_type": "code",
   "execution_count": 3,
   "metadata": {
    "collapsed": true
   },
   "outputs": [],
   "source": [
    "frame00 = trjs[0][0]\n",
    "\n",
    "trjs = [t.superpose(frame00) for t in trjs]\n"
   ]
  },
  {
   "cell_type": "code",
   "execution_count": 4,
   "metadata": {
    "collapsed": true
   },
   "outputs": [],
   "source": [
    "trj_xyz = [t.xyz for t in trjs]"
   ]
  },
  {
   "cell_type": "code",
   "execution_count": 5,
   "metadata": {
    "collapsed": true
   },
   "outputs": [],
   "source": [
    "sc = MinMaxScaler(feature_range=(-1 , 1))"
   ]
  },
  {
   "cell_type": "code",
   "execution_count": 6,
   "metadata": {
    "collapsed": true
   },
   "outputs": [],
   "source": [
    "frames = []\n",
    "for t in trjs:\n",
    "    for f in t:\n",
    "        frames.append(f.xyz.reshape(22, 3))"
   ]
  },
  {
   "cell_type": "code",
   "execution_count": 7,
   "metadata": {},
   "outputs": [
    {
     "data": {
      "text/plain": [
       "(22, 3)"
      ]
     },
     "execution_count": 7,
     "metadata": {},
     "output_type": "execute_result"
    }
   ],
   "source": [
    "frames[0].shape"
   ]
  },
  {
   "cell_type": "code",
   "execution_count": 8,
   "metadata": {
    "collapsed": true
   },
   "outputs": [],
   "source": [
    "f_txx_sc = sc.fit_transform(frames)\n"
   ]
  },
  {
   "cell_type": "code",
   "execution_count": 9,
   "metadata": {},
   "outputs": [
    {
     "data": {
      "text/plain": [
       "99999"
      ]
     },
     "execution_count": 9,
     "metadata": {},
     "output_type": "execute_result"
    }
   ],
   "source": [
    "len(f_txx_sc)"
   ]
  },
  {
   "cell_type": "code",
   "execution_count": 10,
   "metadata": {},
   "outputs": [
    {
     "data": {
      "text/plain": [
       "(22, 3)"
      ]
     },
     "execution_count": 10,
     "metadata": {},
     "output_type": "execute_result"
    }
   ],
   "source": [
    "f_txx_sc[0].shape"
   ]
  },
  {
   "cell_type": "code",
   "execution_count": 11,
   "metadata": {
    "collapsed": true
   },
   "outputs": [],
   "source": [
    "data = np.dstack(f_txx_sc)"
   ]
  },
  {
   "cell_type": "code",
   "execution_count": 12,
   "metadata": {
    "collapsed": true
   },
   "outputs": [],
   "source": [
    "\n",
    "data = data.transpose(2,0,1)"
   ]
  },
  {
   "cell_type": "code",
   "execution_count": 13,
   "metadata": {
    "collapsed": true
   },
   "outputs": [],
   "source": [
    "train, test = train_test_split(data)"
   ]
  },
  {
   "cell_type": "code",
   "execution_count": 14,
   "metadata": {},
   "outputs": [
    {
     "data": {
      "text/plain": [
       "(99999, 22, 3)"
      ]
     },
     "execution_count": 14,
     "metadata": {},
     "output_type": "execute_result"
    }
   ],
   "source": [
    "\n",
    "data.shape"
   ]
  },
  {
   "cell_type": "code",
   "execution_count": 15,
   "metadata": {},
   "outputs": [
    {
     "data": {
      "text/plain": [
       "(74999, 22, 3)"
      ]
     },
     "execution_count": 15,
     "metadata": {},
     "output_type": "execute_result"
    }
   ],
   "source": [
    "train.shape"
   ]
  },
  {
   "cell_type": "code",
   "execution_count": 16,
   "metadata": {},
   "outputs": [
    {
     "data": {
      "image/png": "[encoded data removed]",
      "text/plain": [
       "<matplotlib.figure.Figure at 0x124a9fb38>"
      ]
     },
     "metadata": {},
     "output_type": "display_data"
    }
   ],
   "source": [
    "f, (ax1, ax2, ax3) =plt.subplots(1, 3)\n",
    "ax1.scatter(train[::100, :, 0], train[::100, :, 1])\n",
    "ax2.scatter(train[::100, :, 0], train[::100, :, 2])\n",
    "ax3.scatter(train[::100, :, 1], train[::100, :, 2])\n",
    "ax1.set(xlabel='x', ylabel='y')\n",
    "ax2.set(xlabel='x', ylabel='z')\n",
    "ax3.set(xlabel='y', ylabel='z')\n",
    "f.tight_layout()"
   ]
  },
  {
   "cell_type": "markdown",
   "metadata": {},
   "source": [
    "# generator"
   ]
  },
  {
   "cell_type": "code",
   "execution_count": 17,
   "metadata": {},
   "outputs": [
    {
     "name": "stdout",
     "output_type": "stream",
     "text": [
      "_________________________________________________________________\n",
      "Layer (type)                 Output Shape              Param #   \n",
      "=================================================================\n",
      "dense_1 (Dense)              (None, 80)                1680      \n",
      "_________________________________________________________________\n",
      "batch_normalization_1 (Batch (None, 80)                320       \n",
      "_________________________________________________________________\n",
      "leaky_re_lu_1 (LeakyReLU)    (None, 80)                0         \n",
      "_________________________________________________________________\n",
      "dense_2 (Dense)              (None, 66)                5346      \n",
      "_________________________________________________________________\n",
      "reshape_1 (Reshape)          (None, 22, 3, 1)          0         \n",
      "=================================================================\n",
      "Total params: 7,346\n",
      "Trainable params: 7,186\n",
      "Non-trainable params: 160\n",
      "_________________________________________________________________\n"
     ]
    }
   ],
   "source": [
    "from keras import optimizers\n",
    "noise_dim = 20\n",
    "g = Sequential([\n",
    "    Dense(2 * 2 * noise_dim, input_dim=noise_dim),\n",
    "    keras.layers.BatchNormalization(),\n",
    "    LeakyReLU(0.2),\n",
    "    Dense(22 * 3, input_dim=noise_dim*2*2),\n",
    "    Reshape((22, 3, 1))\n",
    "])\n",
    "Adam = optimizers.Adam(lr=0.0002)\n",
    "g.compile(Adam, loss='binary_crossentropy')\n",
    "g.summary()"
   ]
  },
  {
   "cell_type": "code",
   "execution_count": 18,
   "metadata": {},
   "outputs": [
    {
     "data": {
      "text/plain": [
       "(5, 22, 3, 1)"
      ]
     },
     "execution_count": 18,
     "metadata": {},
     "output_type": "execute_result"
    }
   ],
   "source": [
    "g.predict_on_batch(make_latent_samples(5, noise_dim)).shape"
   ]
  },
  {
   "cell_type": "markdown",
   "metadata": {},
   "source": [
    "# discriminator"
   ]
  },
  {
   "cell_type": "code",
   "execution_count": 19,
   "metadata": {},
   "outputs": [
    {
     "name": "stdout",
     "output_type": "stream",
     "text": [
      "_________________________________________________________________\n",
      "Layer (type)                 Output Shape              Param #   \n",
      "=================================================================\n",
      "conv2d_1 (Conv2D)            (None, 11, 2, 32)         320       \n",
      "_________________________________________________________________\n",
      "leaky_re_lu_2 (LeakyReLU)    (None, 11, 2, 32)         0         \n",
      "_________________________________________________________________\n",
      "dropout_1 (Dropout)          (None, 11, 2, 32)         0         \n",
      "_________________________________________________________________\n",
      "conv2d_2 (Conv2D)            (None, 11, 2, 64)         18496     \n",
      "_________________________________________________________________\n",
      "leaky_re_lu_3 (LeakyReLU)    (None, 11, 2, 64)         0         \n",
      "_________________________________________________________________\n",
      "dropout_2 (Dropout)          (None, 11, 2, 64)         0         \n",
      "_________________________________________________________________\n",
      "conv2d_3 (Conv2D)            (None, 11, 2, 128)        73856     \n",
      "_________________________________________________________________\n",
      "leaky_re_lu_4 (LeakyReLU)    (None, 11, 2, 128)        0         \n",
      "_________________________________________________________________\n",
      "dropout_3 (Dropout)          (None, 11, 2, 128)        0         \n",
      "_________________________________________________________________\n",
      "flatten_1 (Flatten)          (None, 2816)              0         \n",
      "_________________________________________________________________\n",
      "dense_3 (Dense)              (None, 1)                 2817      \n",
      "=================================================================\n",
      "Total params: 95,489\n",
      "Trainable params: 95,489\n",
      "Non-trainable params: 0\n",
      "_________________________________________________________________\n"
     ]
    }
   ],
   "source": [
    "d = Sequential([\n",
    "    \n",
    "    Conv2D(32, 3, padding='same', strides=2, input_shape=(22, 3, 1)),\n",
    "    LeakyReLU(0.2),\n",
    "    Dropout(0.3),\n",
    "    \n",
    "    Conv2D(64, 3, padding='same', strides=1),\n",
    "    LeakyReLU(0.2),\n",
    "    Dropout(0.3),\n",
    "    \n",
    "    \n",
    "    Conv2D(128, 3, padding='same', strides=1),\n",
    "    LeakyReLU(0.2),\n",
    "    Dropout(0.3),\n",
    "    \n",
    "    Flatten(),\n",
    "    Dense(1, activation='sigmoid')\n",
    "    \n",
    "], name='disc')\n",
    "Adam_2 = optimizers.Adam(lr=0.001)\n",
    "d.compile(Adam_2, 'binary_crossentropy')\n",
    "d.summary()"
   ]
  },
  {
   "cell_type": "markdown",
   "metadata": {},
   "source": [
    "# GAN"
   ]
  },
  {
   "cell_type": "code",
   "execution_count": 20,
   "metadata": {
    "collapsed": true
   },
   "outputs": [],
   "source": [
    "gan = Sequential([g, d])\n",
    "Adam_3 = optimizers.Adam(lr=0.0002)\n",
    "gan.compile(Adam_3, 'binary_crossentropy')"
   ]
  },
  {
   "cell_type": "code",
   "execution_count": 21,
   "metadata": {},
   "outputs": [
    {
     "name": "stdout",
     "output_type": "stream",
     "text": [
      "_________________________________________________________________\n",
      "Layer (type)                 Output Shape              Param #   \n",
      "=================================================================\n",
      "sequential_1 (Sequential)    (None, 22, 3, 1)          7346      \n",
      "_________________________________________________________________\n",
      "disc (Sequential)            (None, 1)                 95489     \n",
      "=================================================================\n",
      "Total params: 102,835\n",
      "Trainable params: 102,675\n",
      "Non-trainable params: 160\n",
      "_________________________________________________________________\n"
     ]
    }
   ],
   "source": [
    "gan.summary()"
   ]
  },
  {
   "cell_type": "markdown",
   "metadata": {},
   "source": [
    "# Train Loop"
   ]
  },
  {
   "cell_type": "code",
   "execution_count": 22,
   "metadata": {},
   "outputs": [
    {
     "name": "stderr",
     "output_type": "stream",
     "text": [
      "/Users/je714/miniconda3/lib/python3.6/site-packages/keras/engine/training.py:975: UserWarning: Discrepancy between trainable weights and collected trainable weights, did you set `model.trainable` without calling `model.compile` after ?\n",
      "  'Discrepancy between trainable weights and collected trainable'\n"
     ]
    },
    {
     "name": "stdout",
     "output_type": "stream",
     "text": [
      "Epoch:   1/25 Discriminator Loss: 0.0114 Generator Loss: 13.3182\n",
      "Epoch:   2/25 Discriminator Loss: 0.0041 Generator Loss: 11.2006\n",
      "Epoch:   3/25 Discriminator Loss: 0.0319 Generator Loss: 7.9234\n",
      "Epoch:   4/25 Discriminator Loss: 0.3137 Generator Loss: 4.4362\n",
      "Epoch:   5/25 Discriminator Loss: 0.1900 Generator Loss: 6.0317\n",
      "Epoch:   6/25 Discriminator Loss: 0.1895 Generator Loss: 6.5576\n",
      "Epoch:   7/25 Discriminator Loss: 0.2101 Generator Loss: 6.6119\n",
      "Epoch:   8/25 Discriminator Loss: 0.2989 Generator Loss: 6.0700\n",
      "Epoch:   9/25 Discriminator Loss: 0.1787 Generator Loss: 6.6094\n",
      "Epoch:  10/25 Discriminator Loss: 0.3035 Generator Loss: 5.0972\n",
      "Epoch:  11/25 Discriminator Loss: 0.2343 Generator Loss: 5.1339\n",
      "Epoch:  12/25 Discriminator Loss: 0.2301 Generator Loss: 5.0907\n",
      "Epoch:  13/25 Discriminator Loss: 0.2297 Generator Loss: 4.3810\n",
      "Epoch:  14/25 Discriminator Loss: 0.1035 Generator Loss: 6.0166\n",
      "Epoch:  15/25 Discriminator Loss: 0.1682 Generator Loss: 4.3166\n",
      "Epoch:  16/25 Discriminator Loss: 0.4241 Generator Loss: 3.5571\n",
      "Epoch:  17/25 Discriminator Loss: 0.3814 Generator Loss: 3.0242\n",
      "Epoch:  18/25 Discriminator Loss: 0.2572 Generator Loss: 3.2302\n",
      "Epoch:  19/25 Discriminator Loss: 0.1108 Generator Loss: 5.1938\n",
      "Epoch:  20/25 Discriminator Loss: 0.3449 Generator Loss: 2.5214\n",
      "Epoch:  21/25 Discriminator Loss: 0.1858 Generator Loss: 3.7413\n",
      "Epoch:  22/25 Discriminator Loss: 0.2048 Generator Loss: 3.6622\n",
      "Epoch:  23/25 Discriminator Loss: 0.1236 Generator Loss: 4.5581\n",
      "Epoch:  24/25 Discriminator Loss: 0.2178 Generator Loss: 2.7036\n",
      "Epoch:  25/25 Discriminator Loss: 0.2430 Generator Loss: 2.6063\n"
     ]
    }
   ],
   "source": [
    "batch_size = 250\n",
    "num_epochs = 25\n",
    "eval_size = 200\n",
    "losses = []\n",
    "\n",
    "for epoch in range(num_epochs):\n",
    "    for i in range(len(train)//batch_size):\n",
    "        # ------------------\n",
    "        # Train Disciminator\n",
    "        # ------------------\n",
    "        make_trainable(d, True)\n",
    "\n",
    "        confs = train[i*batch_size:(i+1)*batch_size]  # real conformations from training set\n",
    "        confs = confs.reshape(-1, 22, 3, 1)\n",
    "    \n",
    "        # Sample 100 dimensional noise and generate fake confs\n",
    "        noise = make_latent_samples(batch_size, noise_dim)\n",
    "        fake_confs = g.predict_on_batch(noise)\n",
    "        \n",
    "        d.train_on_batch(confs, np.ones((batch_size, 1)))  # make real label 0.9 instead of 1\n",
    "        d.train_on_batch(fake_confs, np.zeros((batch_size, 1)))    \n",
    "    \n",
    "        # ---------------------\n",
    "        #  Train Generator via GAN (swith off discriminator)\n",
    "        # ---------------------\n",
    "        noise = make_latent_samples(batch_size, noise_dim)  # generate new noise\n",
    "        make_trainable(d, False)\n",
    "        g_loss = gan.train_on_batch(noise, np.ones((batch_size, 1)))\n",
    "        \n",
    "    # Evaluate performance after epoch\n",
    "    conf_eval_real = test[np.random.choice(len(test), eval_size, replace=False)]\n",
    "    conf_eval_real = conf_eval_real.reshape(-1, 22, 3, 1)\n",
    "    noise = make_latent_samples(eval_size, noise_dim)\n",
    "    conf_eval_fake = g.predict_on_batch(noise)\n",
    "    \n",
    "    d_loss_r = d.test_on_batch(conf_eval_real, np.ones(shape=(eval_size, 1)))\n",
    "    d_loss_f = d.test_on_batch(conf_eval_fake, np.zeros(shape=(eval_size, 1)))\n",
    "    d_loss = (d_loss_r + d_loss_f) / 2\n",
    "    \n",
    "    g_loss = gan.test_on_batch(noise, np.ones(shape=(eval_size, 1)))  # we want the fake to be realistic!\n",
    "        \n",
    "    print(\"Epoch: {:>3}/{} Discriminator Loss: {:>6.4f} Generator Loss: {:>6.4f}\".format(epoch+1, num_epochs, d_loss, g_loss))\n",
    "    \n",
    "    losses.append((d_loss, g_loss))\n",
    "    "
   ]
  },
  {
   "cell_type": "code",
   "execution_count": 23,
   "metadata": {},
   "outputs": [
    {
     "data": {
      "image/png": "[encoded data removed]",
      "text/plain": [
       "<matplotlib.figure.Figure at 0x124bd14a8>"
      ]
     },
     "metadata": {},
     "output_type": "display_data"
    }
   ],
   "source": [
    "losses = np.array(losses)\n",
    "\n",
    "fig, ax = plt.subplots()\n",
    "plt.plot(losses.T[0], label='Discriminator')\n",
    "plt.plot(losses.T[1], label='Generator')\n",
    "plt.title(\"Training Losses\")\n",
    "plt.legend()\n",
    "ax.set(ylabel='BCE', xlabel='Epoch')\n",
    "plt.show()\n"
   ]
  },
  {
   "cell_type": "code",
   "execution_count": 24,
   "metadata": {},
   "outputs": [],
   "source": [
    "f0 = g.predict(make_latent_samples(100, noise_dim))"
   ]
  },
  {
   "cell_type": "code",
   "execution_count": 25,
   "metadata": {},
   "outputs": [
    {
     "data": {
      "text/plain": [
       "(100, 22, 3)"
      ]
     },
     "execution_count": 25,
     "metadata": {},
     "output_type": "execute_result"
    }
   ],
   "source": [
    "\n",
    "f0[:,:,:,0].shape"
   ]
  },
  {
   "cell_type": "code",
   "execution_count": 26,
   "metadata": {},
   "outputs": [
    {
     "data": {
      "text/plain": [
       "<matplotlib.collections.PathCollection at 0x124bd10f0>"
      ]
     },
     "execution_count": 26,
     "metadata": {},
     "output_type": "execute_result"
    },
    {
     "data": {
      "image/png": "[encoded data removed]",
      "text/plain": [
       "<matplotlib.figure.Figure at 0x10cb61e48>"
      ]
     },
     "metadata": {},
     "output_type": "display_data"
    }
   ],
   "source": [
    "plt.scatter(f0[:,:,0,0], f0[:,:,1,0])"
   ]
  },
  {
   "cell_type": "code",
   "execution_count": null,
   "metadata": {
    "collapsed": true
   },
   "outputs": [],
   "source": []
  },
  {
   "cell_type": "code",
   "execution_count": null,
   "metadata": {
    "collapsed": true
   },
   "outputs": [],
   "source": []
  },
  {
   "cell_type": "code",
   "execution_count": null,
   "metadata": {
    "collapsed": true
   },
   "outputs": [],
   "source": []
  },
  {
   "cell_type": "code",
   "execution_count": 27,
   "metadata": {
    "collapsed": true
   },
   "outputs": [],
   "source": [
    "import mdtraj"
   ]
  },
  {
   "cell_type": "code",
   "execution_count": 28,
   "metadata": {
    "collapsed": true
   },
   "outputs": [],
   "source": [
    "ala_top = trjs[0].topology"
   ]
  },
  {
   "cell_type": "code",
   "execution_count": 29,
   "metadata": {
    "collapsed": true
   },
   "outputs": [],
   "source": [
    "fk_tr = f0[:,:,:,0]"
   ]
  },
  {
   "cell_type": "code",
   "execution_count": 30,
   "metadata": {
    "collapsed": true
   },
   "outputs": [],
   "source": [
    "fake_traj_orig_space = [sc.inverse_transform(t) for t in fk_tr]"
   ]
  },
  {
   "cell_type": "code",
   "execution_count": 31,
   "metadata": {
    "collapsed": true
   },
   "outputs": [],
   "source": [
    "txx_fake = np.dstack(fake_traj_orig_space).reshape(100, 22, 3)"
   ]
  },
  {
   "cell_type": "code",
   "execution_count": 32,
   "metadata": {},
   "outputs": [
    {
     "data": {
      "text/plain": [
       "<matplotlib.collections.PathCollection at 0x12c9ac4e0>"
      ]
     },
     "execution_count": 32,
     "metadata": {},
     "output_type": "execute_result"
    },
    {
     "data": {
      "image/png": "[encoded data removed]",
      "text/plain": [
       "<matplotlib.figure.Figure at 0x124bdc278>"
      ]
     },
     "metadata": {},
     "output_type": "display_data"
    }
   ],
   "source": [
    "real_traj_orig_space = [sc.inverse_transform(t) for t in train]\n",
    "scatter(np.dstack(real_traj_orig_space).reshape(-1, 22, 3))\n",
    "plt.scatter(txx_fake[:, 0], txx_fake[:, 1])"
   ]
  },
  {
   "cell_type": "code",
   "execution_count": null,
   "metadata": {
    "collapsed": true
   },
   "outputs": [],
   "source": []
  },
  {
   "cell_type": "code",
   "execution_count": null,
   "metadata": {
    "collapsed": true
   },
   "outputs": [],
   "source": []
  },
  {
   "cell_type": "code",
   "execution_count": null,
   "metadata": {
    "collapsed": true
   },
   "outputs": [],
   "source": []
  },
  {
   "cell_type": "code",
   "execution_count": null,
   "metadata": {
    "collapsed": true
   },
   "outputs": [],
   "source": []
  },
  {
   "cell_type": "code",
   "execution_count": null,
   "metadata": {
    "collapsed": true
   },
   "outputs": [],
   "source": []
  },
  {
   "cell_type": "code",
   "execution_count": 33,
   "metadata": {},
   "outputs": [
    {
     "data": {
      "text/plain": [
       "<mdtraj.Topology with 1 chains, 3 residues, 22 atoms, 21 bonds at 0x122266f98>"
      ]
     },
     "execution_count": 33,
     "metadata": {},
     "output_type": "execute_result"
    }
   ],
   "source": [
    "ala_top"
   ]
  },
  {
   "cell_type": "code",
   "execution_count": 34,
   "metadata": {},
   "outputs": [
    {
     "data": {
      "text/plain": [
       "<mdtraj.Trajectory with 100 frames, 22 atoms, 3 residues, without unitcells at 0x12adc12e8>"
      ]
     },
     "execution_count": 34,
     "metadata": {},
     "output_type": "execute_result"
    }
   ],
   "source": [
    "fake_traj = mdtraj.Trajectory(fake_traj_orig_space, topology=ala_top)\n",
    "c = fake_traj.center_coordinates()\n",
    "c.superpose(c, 0)"
   ]
  },
  {
   "cell_type": "code",
   "execution_count": 35,
   "metadata": {
    "collapsed": true
   },
   "outputs": [],
   "source": [
    "c.save_netcdf('fake_traj.nc')"
   ]
  },
  {
   "cell_type": "code",
   "execution_count": 36,
   "metadata": {},
   "outputs": [
    {
     "data": {
      "text/plain": [
       "(22, 3, 1)"
      ]
     },
     "execution_count": 36,
     "metadata": {},
     "output_type": "execute_result"
    }
   ],
   "source": [
    "\n",
    "f0[0].shape"
   ]
  },
  {
   "cell_type": "code",
   "execution_count": 37,
   "metadata": {},
   "outputs": [
    {
     "data": {
      "text/plain": [
       "<matplotlib.axes._subplots.AxesSubplot at 0x12b0969b0>"
      ]
     },
     "execution_count": 37,
     "metadata": {},
     "output_type": "execute_result"
    },
    {
     "data": {
      "image/png": "[encoded data removed]",
      "text/plain": [
       "<matplotlib.figure.Figure at 0x12b096198>"
      ]
     },
     "metadata": {},
     "output_type": "display_data"
    }
   ],
   "source": [
    "ax = scatter(test[0])\n",
    "scatter(f0[0,:,:,0], ax=ax)"
   ]
  },
  {
   "cell_type": "code",
   "execution_count": 38,
   "metadata": {},
   "outputs": [
    {
     "data": {
      "text/plain": [
       "(22, 3, 1)"
      ]
     },
     "execution_count": 38,
     "metadata": {},
     "output_type": "execute_result"
    }
   ],
   "source": [
    "f0[0].shape"
   ]
  },
  {
   "cell_type": "code",
   "execution_count": 39,
   "metadata": {
    "collapsed": true
   },
   "outputs": [],
   "source": [
    "real_traj = trjs[0]"
   ]
  },
  {
   "cell_type": "code",
   "execution_count": 40,
   "metadata": {
    "collapsed": true
   },
   "outputs": [],
   "source": [
    "real_traj.center_coordinates()\n",
    "real_traj.superpose(real_traj, 0)\n",
    "real_traj.save_netcdf('real_traj.nc')"
   ]
  },
  {
   "cell_type": "code",
   "execution_count": null,
   "metadata": {},
   "outputs": [],
   "source": []
  }
 ],
 "metadata": {
  "hide_input": false,
  "kernelspec": {
   "display_name": "Python 3",
   "language": "python",
   "name": "python3"
  },
  "language_info": {
   "codemirror_mode": {
    "name": "ipython",
    "version": 3
   },
   "file_extension": ".py",
   "mimetype": "text/x-python",
   "name": "python",
   "nbconvert_exporter": "python",
   "pygments_lexer": "ipython3",
   "version": "3.6.4"
  }
 },
 "nbformat": 4,
 "nbformat_minor": 2
}
