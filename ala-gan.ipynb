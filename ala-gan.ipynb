{
 "cells": [
  {
   "cell_type": "code",
   "execution_count": 1,
   "metadata": {},
   "outputs": [
    {
     "name": "stderr",
     "output_type": "stream",
     "text": [
      "/Users/je714/miniconda3/envs/dl/lib/python3.6/site-packages/sklearn/cross_validation.py:41: DeprecationWarning: This module was deprecated in version 0.18 in favor of the model_selection module into which all the refactored classes and functions are moved. Also note that the interface of the new CV iterators are different from that of this module. This module will be removed in 0.20.\n",
      "  \"This module will be removed in 0.20.\", DeprecationWarning)\n",
      "/Users/je714/miniconda3/envs/dl/lib/python3.6/site-packages/sklearn/grid_search.py:42: DeprecationWarning: This module was deprecated in version 0.18 in favor of the model_selection module into which all the refactored classes and functions are moved. This module will be removed in 0.20.\n",
      "  DeprecationWarning)\n",
      "/Users/je714/miniconda3/envs/dl/lib/python3.6/site-packages/statsmodels/compat/pandas.py:56: FutureWarning: The pandas.core.datetools module is deprecated and will be removed in a future version. Please use the pandas.tseries module instead.\n",
      "  from pandas.core import datetools\n",
      "/Users/je714/miniconda3/envs/dl/lib/python3.6/site-packages/h5py/__init__.py:36: FutureWarning: Conversion of the second argument of issubdtype from `float` to `np.floating` is deprecated. In future, it will be treated as `np.float64 == np.dtype(float).type`.\n",
      "  from ._conv import register_converters as _register_converters\n",
      "Using TensorFlow backend.\n"
     ]
    }
   ],
   "source": [
    "from msmbuilder.example_datasets import AlanineDipeptide\n",
    "from msmbuilder.preprocessing import MinMaxScaler\n",
    "%matplotlib inline\n",
    "from sklearn.model_selection import train_test_split\n",
    "import seaborn as sns\n",
    "import matplotlib.pyplot as plt\n",
    "\n",
    "import numpy as np\n",
    "\n",
    "\n",
    "import keras\n",
    "import keras.backend as K\n",
    "from keras.layers import Input, Dense, Reshape, Flatten, Dropout\n",
    "from keras.layers import BatchNormalization, Activation, ZeroPadding2D, ZeroPadding3D\n",
    "from keras.layers.advanced_activations import LeakyReLU\n",
    "from keras.layers.convolutional import UpSampling2D, Conv2D, UpSampling3D, Conv3D, UpSampling1D, Conv2DTranspose\n",
    "from keras.models import Sequential, Model\n",
    "from keras.optimizers import Adam\n",
    "\n",
    "\n",
    "\n",
    "\n",
    "from sklearn.model_selection import train_test_split\n",
    "import matplotlib.pyplot as plt\n",
    "\n",
    "\n",
    "from utils import *\n",
    "\n"
   ]
  },
  {
   "cell_type": "code",
   "execution_count": 2,
   "metadata": {},
   "outputs": [
    {
     "name": "stdout",
     "output_type": "stream",
     "text": [
      "alanine_dipeptide already is cached\n"
     ]
    }
   ],
   "source": [
    "trjs = AlanineDipeptide().get().trajectories"
   ]
  },
  {
   "cell_type": "code",
   "execution_count": 3,
   "metadata": {},
   "outputs": [],
   "source": [
    "frame00 = trjs[0][0]\n",
    "\n",
    "trjs = [t.superpose(frame00) for t in trjs]\n"
   ]
  },
  {
   "cell_type": "code",
   "execution_count": 4,
   "metadata": {},
   "outputs": [],
   "source": [
    "trj_xyz = [t.xyz for t in trjs]"
   ]
  },
  {
   "cell_type": "code",
   "execution_count": 5,
   "metadata": {},
   "outputs": [],
   "source": [
    "sc = MinMaxScaler(feature_range=(-1 , 1))"
   ]
  },
  {
   "cell_type": "code",
   "execution_count": 6,
   "metadata": {},
   "outputs": [],
   "source": [
    "frames = []\n",
    "for t in trjs:\n",
    "    for f in t:\n",
    "        frames.append(f.xyz.reshape(22, 3))"
   ]
  },
  {
   "cell_type": "code",
   "execution_count": 7,
   "metadata": {},
   "outputs": [
    {
     "data": {
      "text/plain": [
       "(22, 3)"
      ]
     },
     "execution_count": 7,
     "metadata": {},
     "output_type": "execute_result"
    }
   ],
   "source": [
    "frames[0].shape"
   ]
  },
  {
   "cell_type": "code",
   "execution_count": 8,
   "metadata": {},
   "outputs": [],
   "source": [
    "f_txx_sc = sc.fit_transform(frames)\n"
   ]
  },
  {
   "cell_type": "code",
   "execution_count": 78,
   "metadata": {},
   "outputs": [
    {
     "data": {
      "text/plain": [
       "99999"
      ]
     },
     "execution_count": 78,
     "metadata": {},
     "output_type": "execute_result"
    }
   ],
   "source": [
    "len(f_txx_sc)"
   ]
  },
  {
   "cell_type": "code",
   "execution_count": 9,
   "metadata": {},
   "outputs": [
    {
     "data": {
      "text/plain": [
       "(22, 3)"
      ]
     },
     "execution_count": 9,
     "metadata": {},
     "output_type": "execute_result"
    }
   ],
   "source": [
    "f_txx_sc[0].shape"
   ]
  },
  {
   "cell_type": "code",
   "execution_count": 10,
   "metadata": {},
   "outputs": [],
   "source": [
    "data = np.dstack(f_txx_sc)"
   ]
  },
  {
   "cell_type": "code",
   "execution_count": 11,
   "metadata": {},
   "outputs": [],
   "source": [
    "\n",
    "data = data.reshape((-1, 22, 3))"
   ]
  },
  {
   "cell_type": "code",
   "execution_count": 12,
   "metadata": {},
   "outputs": [],
   "source": [
    "train, test = train_test_split(data)"
   ]
  },
  {
   "cell_type": "code",
   "execution_count": 79,
   "metadata": {},
   "outputs": [
    {
     "data": {
      "text/plain": [
       "(99999, 22, 3)"
      ]
     },
     "execution_count": 79,
     "metadata": {},
     "output_type": "execute_result"
    }
   ],
   "source": [
    "\n",
    "data.shape"
   ]
  },
  {
   "cell_type": "code",
   "execution_count": 80,
   "metadata": {},
   "outputs": [
    {
     "data": {
      "text/plain": [
       "(74999, 22, 3)"
      ]
     },
     "execution_count": 80,
     "metadata": {},
     "output_type": "execute_result"
    }
   ],
   "source": [
    "train.shape"
   ]
  },
  {
   "cell_type": "code",
   "execution_count": 91,
   "metadata": {},
   "outputs": [
    {
     "data": {
      "image/png": "[encoded data removed]",
      "text/plain": [
       "<matplotlib.figure.Figure at 0x1306650b8>"
      ]
     },
     "metadata": {},
     "output_type": "display_data"
    }
   ],
   "source": [
    "f, (ax1, ax2, ax3) =plt.subplots(1, 3)\n",
    "ax1.scatter(train[::100, :, 0], train[::100, :, 1])\n",
    "ax2.scatter(train[::100, :, 0], train[::100, :, 2])\n",
    "ax3.scatter(train[::100, :, 1], train[::100, :, 2])\n",
    "ax1.set(xlabel='x', ylabel='y')\n",
    "ax2.set(xlabel='x', ylabel='z')\n",
    "ax3.set(xlabel='y', ylabel='z')\n",
    "f.tight_layout()"
   ]
  },
  {
   "cell_type": "code",
   "execution_count": 81,
   "metadata": {},
   "outputs": [
    {
     "data": {
      "text/plain": [
       "(25000, 22, 3)"
      ]
     },
     "execution_count": 81,
     "metadata": {},
     "output_type": "execute_result"
    }
   ],
   "source": [
    "\n",
    "test.shape"
   ]
  },
  {
   "cell_type": "markdown",
   "metadata": {},
   "source": [
    "# generator"
   ]
  },
  {
   "cell_type": "code",
   "execution_count": 15,
   "metadata": {},
   "outputs": [
    {
     "name": "stdout",
     "output_type": "stream",
     "text": [
      "_________________________________________________________________\n",
      "Layer (type)                 Output Shape              Param #   \n",
      "=================================================================\n",
      "dense_1 (Dense)              (None, 660)               66660     \n",
      "_________________________________________________________________\n",
      "reshape_1 (Reshape)          (None, 22, 3, 10)         0         \n",
      "_________________________________________________________________\n",
      "conv2d_transpose_1 (Conv2DTr (None, 22, 3, 1)          661       \n",
      "=================================================================\n",
      "Total params: 67,321\n",
      "Trainable params: 67,321\n",
      "Non-trainable params: 0\n",
      "_________________________________________________________________\n"
     ]
    }
   ],
   "source": [
    "g = Sequential([\n",
    "    Dense(22 * 3 * 10, input_dim=100, activation='relu'),\n",
    "    Reshape((22, 3, 10)),\n",
    "    Conv2DTranspose(1, (22, 3), activation='tanh', padding='same')\n",
    "])\n",
    "\n",
    "\n",
    "\n",
    "g.compile(Adam(), loss='binary_crossentropy')\n",
    "g.summary()"
   ]
  },
  {
   "cell_type": "code",
   "execution_count": 84,
   "metadata": {},
   "outputs": [
    {
     "data": {
      "text/plain": [
       "(5, 22, 3, 1)"
      ]
     },
     "execution_count": 84,
     "metadata": {},
     "output_type": "execute_result"
    }
   ],
   "source": [
    "g.predict_on_batch(make_latent_samples(5, 100)).shape"
   ]
  },
  {
   "cell_type": "markdown",
   "metadata": {},
   "source": [
    "# discriminator"
   ]
  },
  {
   "cell_type": "code",
   "execution_count": 19,
   "metadata": {},
   "outputs": [
    {
     "name": "stdout",
     "output_type": "stream",
     "text": [
      "_________________________________________________________________\n",
      "Layer (type)                 Output Shape              Param #   \n",
      "=================================================================\n",
      "conv2d_1 (Conv2D)            (None, 11, 2, 32)         320       \n",
      "_________________________________________________________________\n",
      "leaky_re_lu_1 (LeakyReLU)    (None, 11, 2, 32)         0         \n",
      "_________________________________________________________________\n",
      "dropout_1 (Dropout)          (None, 11, 2, 32)         0         \n",
      "_________________________________________________________________\n",
      "conv2d_2 (Conv2D)            (None, 11, 2, 64)         18496     \n",
      "_________________________________________________________________\n",
      "leaky_re_lu_2 (LeakyReLU)    (None, 11, 2, 64)         0         \n",
      "_________________________________________________________________\n",
      "dropout_2 (Dropout)          (None, 11, 2, 64)         0         \n",
      "_________________________________________________________________\n",
      "conv2d_3 (Conv2D)            (None, 11, 2, 128)        73856     \n",
      "_________________________________________________________________\n",
      "leaky_re_lu_3 (LeakyReLU)    (None, 11, 2, 128)        0         \n",
      "_________________________________________________________________\n",
      "dropout_3 (Dropout)          (None, 11, 2, 128)        0         \n",
      "_________________________________________________________________\n",
      "flatten_1 (Flatten)          (None, 2816)              0         \n",
      "_________________________________________________________________\n",
      "dense_2 (Dense)              (None, 1)                 2817      \n",
      "=================================================================\n",
      "Total params: 95,489\n",
      "Trainable params: 95,489\n",
      "Non-trainable params: 0\n",
      "_________________________________________________________________\n"
     ]
    }
   ],
   "source": [
    "d = Sequential([\n",
    "    \n",
    "    Conv2D(32, 3, padding='same', strides=2, input_shape=(22, 3, 1)),\n",
    "    LeakyReLU(),\n",
    "    Dropout(0.3),\n",
    "    \n",
    "    Conv2D(64, 3, padding='same', strides=1),\n",
    "    LeakyReLU(),\n",
    "    Dropout(0.3),\n",
    "    \n",
    "    \n",
    "    Conv2D(128, 3, padding='same', strides=1),\n",
    "    LeakyReLU(),\n",
    "    Dropout(0.3),\n",
    "    \n",
    "    Flatten(),\n",
    "    Dense(1, activation='sigmoid')\n",
    "    \n",
    "], name='disc')\n",
    "d.compile(Adam(), 'binary_crossentropy')\n",
    "d.summary()"
   ]
  },
  {
   "cell_type": "code",
   "execution_count": 20,
   "metadata": {},
   "outputs": [],
   "source": [
    "gan = Sequential([g, d])\n",
    "gan.compile(Adam(), 'binary_crossentropy')"
   ]
  },
  {
   "cell_type": "code",
   "execution_count": 21,
   "metadata": {},
   "outputs": [
    {
     "name": "stdout",
     "output_type": "stream",
     "text": [
      "_________________________________________________________________\n",
      "Layer (type)                 Output Shape              Param #   \n",
      "=================================================================\n",
      "sequential_1 (Sequential)    (None, 22, 3, 1)          67321     \n",
      "_________________________________________________________________\n",
      "disc (Sequential)            (None, 1)                 95489     \n",
      "=================================================================\n",
      "Total params: 162,810\n",
      "Trainable params: 162,810\n",
      "Non-trainable params: 0\n",
      "_________________________________________________________________\n"
     ]
    }
   ],
   "source": [
    "gan.summary()"
   ]
  },
  {
   "cell_type": "markdown",
   "metadata": {},
   "source": [
    "# Train Loop"
   ]
  },
  {
   "cell_type": "code",
   "execution_count": 24,
   "metadata": {},
   "outputs": [
    {
     "name": "stderr",
     "output_type": "stream",
     "text": [
      "/Users/je714/miniconda3/envs/dl/lib/python3.6/site-packages/keras/engine/training.py:973: UserWarning: Discrepancy between trainable weights and collected trainable weights, did you set `model.trainable` without calling `model.compile` after ?\n",
      "  'Discrepancy between trainable weights and collected trainable'\n"
     ]
    },
    {
     "name": "stdout",
     "output_type": "stream",
     "text": [
      "Epoch:   1/50 Discriminator Loss: 0.8246 Generator Loss: 0.2519\n",
      "Epoch:   2/50 Discriminator Loss: 1.0616 Generator Loss: 0.1466\n",
      "Epoch:   3/50 Discriminator Loss: 0.7818 Generator Loss: 0.2904\n",
      "Epoch:   4/50 Discriminator Loss: 0.9697 Generator Loss: 0.1815\n",
      "Epoch:   5/50 Discriminator Loss: 0.8231 Generator Loss: 0.2406\n",
      "Epoch:   6/50 Discriminator Loss: 0.8154 Generator Loss: 0.2535\n",
      "Epoch:   7/50 Discriminator Loss: 0.8832 Generator Loss: 0.2273\n",
      "Epoch:   8/50 Discriminator Loss: 0.9397 Generator Loss: 0.1984\n",
      "Epoch:   9/50 Discriminator Loss: 1.0147 Generator Loss: 0.1758\n",
      "Epoch:  10/50 Discriminator Loss: 0.9687 Generator Loss: 0.1995\n",
      "Epoch:  11/50 Discriminator Loss: 0.8026 Generator Loss: 0.3106\n",
      "Epoch:  12/50 Discriminator Loss: 1.0260 Generator Loss: 0.1674\n",
      "Epoch:  13/50 Discriminator Loss: 1.0526 Generator Loss: 0.1528\n",
      "Epoch:  14/50 Discriminator Loss: 0.8723 Generator Loss: 0.2477\n",
      "Epoch:  15/50 Discriminator Loss: 0.8279 Generator Loss: 0.2838\n",
      "Epoch:  16/50 Discriminator Loss: 0.8259 Generator Loss: 0.2709\n",
      "Epoch:  17/50 Discriminator Loss: 1.0312 Generator Loss: 0.1895\n",
      "Epoch:  18/50 Discriminator Loss: 0.9069 Generator Loss: 0.2190\n",
      "Epoch:  19/50 Discriminator Loss: 1.0991 Generator Loss: 0.1654\n",
      "Epoch:  20/50 Discriminator Loss: 0.8122 Generator Loss: 0.3423\n",
      "Epoch:  21/50 Discriminator Loss: 1.1045 Generator Loss: 0.1357\n",
      "Epoch:  22/50 Discriminator Loss: 1.3104 Generator Loss: 0.0858\n",
      "Epoch:  23/50 Discriminator Loss: 1.3943 Generator Loss: 0.0823\n",
      "Epoch:  24/50 Discriminator Loss: 0.9260 Generator Loss: 0.1992\n",
      "Epoch:  25/50 Discriminator Loss: 1.0871 Generator Loss: 0.1572\n",
      "Epoch:  26/50 Discriminator Loss: 1.1192 Generator Loss: 0.1323\n",
      "Epoch:  27/50 Discriminator Loss: 1.1057 Generator Loss: 0.1440\n",
      "Epoch:  28/50 Discriminator Loss: 1.1836 Generator Loss: 0.1192\n",
      "Epoch:  29/50 Discriminator Loss: 1.3319 Generator Loss: 0.0827\n",
      "Epoch:  30/50 Discriminator Loss: 1.1691 Generator Loss: 0.1464\n",
      "Epoch:  31/50 Discriminator Loss: 1.2307 Generator Loss: 0.1074\n",
      "Epoch:  32/50 Discriminator Loss: 1.2164 Generator Loss: 0.1052\n",
      "Epoch:  33/50 Discriminator Loss: 0.8295 Generator Loss: 0.3074\n",
      "Epoch:  34/50 Discriminator Loss: 0.9746 Generator Loss: 0.1831\n",
      "Epoch:  35/50 Discriminator Loss: 0.9547 Generator Loss: 0.2175\n",
      "Epoch:  36/50 Discriminator Loss: 0.9940 Generator Loss: 0.2049\n",
      "Epoch:  37/50 Discriminator Loss: 0.9858 Generator Loss: 0.1879\n",
      "Epoch:  38/50 Discriminator Loss: 1.2127 Generator Loss: 0.1219\n",
      "Epoch:  39/50 Discriminator Loss: 1.0976 Generator Loss: 0.1617\n",
      "Epoch:  40/50 Discriminator Loss: 1.6402 Generator Loss: 0.0712\n",
      "Epoch:  41/50 Discriminator Loss: 1.7164 Generator Loss: 0.0359\n",
      "Epoch:  42/50 Discriminator Loss: 1.5731 Generator Loss: 0.0635\n",
      "Epoch:  43/50 Discriminator Loss: 1.6105 Generator Loss: 0.0869\n",
      "Epoch:  44/50 Discriminator Loss: 1.4537 Generator Loss: 0.0687\n",
      "Epoch:  45/50 Discriminator Loss: 1.4111 Generator Loss: 0.0938\n",
      "Epoch:  46/50 Discriminator Loss: 1.3222 Generator Loss: 0.0886\n",
      "Epoch:  47/50 Discriminator Loss: 1.2864 Generator Loss: 0.1112\n",
      "Epoch:  48/50 Discriminator Loss: 1.2957 Generator Loss: 0.0935\n",
      "Epoch:  49/50 Discriminator Loss: 1.1436 Generator Loss: 0.1286\n",
      "Epoch:  50/50 Discriminator Loss: 1.6398 Generator Loss: 0.0424\n"
     ]
    }
   ],
   "source": [
    "batch_size = 500\n",
    "half_batch = int(batch_size / 2)\n",
    "num_epochs = 50\n",
    "eval_size = 100\n",
    "losses = []\n",
    "\n",
    "\n",
    "for epoch in range(num_epochs):\n",
    "    for i in range(len(train)//batch_size):\n",
    "        # Train Discriminator\n",
    "        make_trainable(d, True)\n",
    "        confs = train[i*batch_size:(i+1)*batch_size]\n",
    "    \n",
    "        confs = confs.reshape(-1, 22, 3, 1)\n",
    "    \n",
    "        # Sample 100 dimensional noise and generate fake confs\n",
    "        noise = make_latent_samples(batch_size, 100)\n",
    "        fake_confs = g.predict_on_batch(noise)\n",
    "    \n",
    "        # Label smoothing\n",
    "        # if you have two target labels: Real=1 and Fake=0,\n",
    "        # then for each incoming sample, if it is real,\n",
    "        # then replace the label with a random number between 0.7 and 1.2,\n",
    "        # and if it is a fake sample, replace it with 0.0 and 0.3 (for example).\n",
    "\n",
    "        label_real = (1.2 - 0.7) * np.random.random(size=(batch_size, 1))  + 0.7\n",
    "        label_fake = 0.3 * np.random.random(size=(batch_size, 1))\n",
    "        d.train_on_batch(confs, label_real) \n",
    "        d.train_on_batch(fake_confs, label_fake)    \n",
    "    \n",
    "        # ---------------------\n",
    "        #  Train Generator via GAN\n",
    "        # ---------------------\n",
    "        noise = make_latent_samples(batch_size, 100)  # generate new noise\n",
    "        # Train the generator (wants discriminator to mistake images as real)\n",
    "        make_trainable(d, False)\n",
    "        labels_real = (1.2 - 0.7) * np.random.random(size=(batch_size, 1))  + 0.7\n",
    "        g_loss = gan.train_on_batch(noise, np.ones((batch_size, 1)))\n",
    "        \n",
    "    # Evaluate after epoch\n",
    "    conf_eval_real = test[np.random.choice(len(test), eval_size, replace=False)]\n",
    "    conf_eval_real = conf_eval_real.reshape(-1, 22, 3, 1)\n",
    "    noise = make_latent_samples(eval_size, 100)\n",
    "    conf_eval_fake = g.predict_on_batch(noise)\n",
    "    \n",
    "    d_loss_r = d.test_on_batch(conf_eval_real, np.ones(shape=(eval_size, 1)))\n",
    "    d_loss_f = d.test_on_batch(conf_eval_fake, np.zeros(shape=(eval_size, 1)))\n",
    "    d_loss = (d_loss_r + d_loss_f) / 2\n",
    "    \n",
    "    g_loss = gan.test_on_batch(noise, np.ones(shape=(eval_size, 1)))  # we want the fake to be realistic!\n",
    "        \n",
    "    print(\"Epoch: {:>3}/{} Discriminator Loss: {:>6.4f} Generator Loss: {:>6.4f}\".format(epoch+1, num_epochs, d_loss, g_loss))\n",
    "    \n",
    "    losses.append((d_loss, g_loss))\n",
    "    "
   ]
  },
  {
   "cell_type": "code",
   "execution_count": 61,
   "metadata": {},
   "outputs": [
    {
     "data": {
      "image/png": "[encoded data removed]",
      "text/plain": [
       "<matplotlib.figure.Figure at 0x12e41c588>"
      ]
     },
     "metadata": {},
     "output_type": "display_data"
    }
   ],
   "source": [
    "losses = np.array(losses)\n",
    "\n",
    "fig, ax = plt.subplots()\n",
    "plt.plot(losses.T[0], label='Discriminator')\n",
    "plt.plot(losses.T[1], label='Generator')\n",
    "plt.title(\"Training Losses\")\n",
    "plt.legend()\n",
    "ax.set(ylabel='BCE', xlabel='Epoch')\n",
    "plt.show()\n"
   ]
  },
  {
   "cell_type": "code",
   "execution_count": 26,
   "metadata": {},
   "outputs": [],
   "source": [
    "f0 = g.predict(make_latent_samples(100, 100))"
   ]
  },
  {
   "cell_type": "code",
   "execution_count": 27,
   "metadata": {},
   "outputs": [
    {
     "data": {
      "text/plain": [
       "(100, 22, 3)"
      ]
     },
     "execution_count": 27,
     "metadata": {},
     "output_type": "execute_result"
    }
   ],
   "source": [
    "\n",
    "f0[:,:,:,0].shape"
   ]
  },
  {
   "cell_type": "code",
   "execution_count": 28,
   "metadata": {},
   "outputs": [],
   "source": [
    "import mdtraj"
   ]
  },
  {
   "cell_type": "code",
   "execution_count": 29,
   "metadata": {},
   "outputs": [],
   "source": [
    "ala_top = trjs[0].topology"
   ]
  },
  {
   "cell_type": "code",
   "execution_count": 47,
   "metadata": {},
   "outputs": [],
   "source": [
    "fk_tr = f0[:,:,:,0]"
   ]
  },
  {
   "cell_type": "code",
   "execution_count": 56,
   "metadata": {},
   "outputs": [],
   "source": [
    "fake_traj_orig_space = [sc.inverse_transform(t) for t in fk_tr]"
   ]
  },
  {
   "cell_type": "code",
   "execution_count": 30,
   "metadata": {},
   "outputs": [
    {
     "data": {
      "text/plain": [
       "<mdtraj.Topology with 1 chains, 3 residues, 22 atoms, 21 bonds at 0x124406f98>"
      ]
     },
     "execution_count": 30,
     "metadata": {},
     "output_type": "execute_result"
    }
   ],
   "source": [
    "ala_top"
   ]
  },
  {
   "cell_type": "code",
   "execution_count": 58,
   "metadata": {},
   "outputs": [
    {
     "data": {
      "text/plain": [
       "<mdtraj.Trajectory with 100 frames, 22 atoms, 3 residues, without unitcells at 0x12e069dd8>"
      ]
     },
     "execution_count": 58,
     "metadata": {},
     "output_type": "execute_result"
    }
   ],
   "source": [
    "fake_traj = mdtraj.Trajectory(fake_traj_orig_space, topology=ala_top)\n",
    "c = fake_traj.center_coordinates()\n",
    "c.superpose(c, 0)"
   ]
  },
  {
   "cell_type": "code",
   "execution_count": 60,
   "metadata": {},
   "outputs": [],
   "source": [
    "c.save_netcdf('fake_traj.nc')"
   ]
  },
  {
   "cell_type": "code",
   "execution_count": null,
   "metadata": {},
   "outputs": [],
   "source": [
    "\n",
    "f0[0].shape"
   ]
  },
  {
   "cell_type": "code",
   "execution_count": null,
   "metadata": {},
   "outputs": [],
   "source": [
    "ax = scatter(test[0])\n",
    "scatter(f0[0,:,:,0], ax=ax)"
   ]
  },
  {
   "cell_type": "code",
   "execution_count": null,
   "metadata": {},
   "outputs": [],
   "source": [
    "f0[0].shape"
   ]
  },
  {
   "cell_type": "code",
   "execution_count": 63,
   "metadata": {},
   "outputs": [],
   "source": [
    "real_traj = trjs[0]"
   ]
  },
  {
   "cell_type": "code",
   "execution_count": 64,
   "metadata": {},
   "outputs": [],
   "source": [
    "real_traj.center_coordinates()\n",
    "real_traj.superpose(real_traj, 0)\n",
    "real_traj.save_netcdf('real_traj.nc')"
   ]
  },
  {
   "cell_type": "code",
   "execution_count": 76,
   "metadata": {},
   "outputs": [],
   "source": [
    "for i, t in enumerate(trjs):\n",
    "    t.superpose(frame00)\n",
    "    t.save_netcdf('traj_real{0:02d}.nc'.format(i))\n",
    "    "
   ]
  },
  {
   "cell_type": "code",
   "execution_count": 75,
   "metadata": {},
   "outputs": [
    {
     "data": {
      "text/plain": [
       "<mdtraj.Trajectory with 1 frames, 22 atoms, 3 residues, without unitcells at 0x124403780>"
      ]
     },
     "execution_count": 75,
     "metadata": {},
     "output_type": "execute_result"
    }
   ],
   "source": [
    "frame00"
   ]
  },
  {
   "cell_type": "code",
   "execution_count": null,
   "metadata": {},
   "outputs": [],
   "source": []
  }
 ],
 "metadata": {
  "kernelspec": {
   "display_name": "Python 3",
   "language": "python",
   "name": "python3"
  },
  "language_info": {
   "codemirror_mode": {
    "name": "ipython",
    "version": 3
   },
   "file_extension": ".py",
   "mimetype": "text/x-python",
   "name": "python",
   "nbconvert_exporter": "python",
   "pygments_lexer": "ipython3",
   "version": "3.6.4"
  }
 },
 "nbformat": 4,
 "nbformat_minor": 2
}
